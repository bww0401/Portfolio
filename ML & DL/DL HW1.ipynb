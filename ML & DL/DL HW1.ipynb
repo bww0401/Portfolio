{
 "cells": [
  {
   "cell_type": "markdown",
   "id": "6ff37fdf-a062-42f6-94e8-9cc0211e7e00",
   "metadata": {},
   "source": [
    "# Deep Learning HW 1 \n",
    "Improve the following Fashion MNIST DNN model performance: https://www.tensorflow.org/tutorials/keras/classification"
   ]
  },
  {
   "cell_type": "code",
   "execution_count": 1,
   "id": "c18e1fdc-1aac-4f04-8bf3-c0d7f9e95269",
   "metadata": {},
   "outputs": [
    {
     "name": "stdout",
     "output_type": "stream",
     "text": [
      "2.13.0\n"
     ]
    }
   ],
   "source": [
    "# TensorFlow and tf.keras\n",
    "import tensorflow as tf\n",
    "\n",
    "# Helper libraries\n",
    "import numpy as np\n",
    "import matplotlib.pyplot as plt\n",
    "import seaborn as sns\n",
    "sns.set()\n",
    "\n",
    "print(tf.__version__)"
   ]
  },
  {
   "cell_type": "code",
   "execution_count": 2,
   "id": "d987ac21-c909-4b64-b225-d1a8522b632c",
   "metadata": {},
   "outputs": [],
   "source": [
    "fashion_mnist = tf.keras.datasets.fashion_mnist\n",
    "\n",
    "(train_images, train_labels), (test_images, test_labels) = fashion_mnist.load_data()"
   ]
  },
  {
   "cell_type": "code",
   "execution_count": 3,
   "id": "ddb377ae-3761-44d4-85b5-2c9807480471",
   "metadata": {},
   "outputs": [],
   "source": [
    "class_names = ['T-shirt/top', 'Trouser', 'Pullover', 'Dress', 'Coat',\n",
    "               'Sandal', 'Shirt', 'Sneaker', 'Bag', 'Ankle boot']"
   ]
  },
  {
   "cell_type": "code",
   "execution_count": 4,
   "id": "6811f571-260e-4f79-bcd9-06be6acca8cb",
   "metadata": {},
   "outputs": [
    {
     "data": {
      "text/plain": [
       "(60000, 28, 28)"
      ]
     },
     "execution_count": 4,
     "metadata": {},
     "output_type": "execute_result"
    }
   ],
   "source": [
    "train_images.shape"
   ]
  },
  {
   "cell_type": "code",
   "execution_count": 6,
   "id": "dec149c5-9047-4c6b-873d-c621a2286cc6",
   "metadata": {},
   "outputs": [
    {
     "data": {
      "text/plain": [
       "60000"
      ]
     },
     "execution_count": 6,
     "metadata": {},
     "output_type": "execute_result"
    }
   ],
   "source": [
    "len(train_labels)"
   ]
  },
  {
   "cell_type": "code",
   "execution_count": 7,
   "id": "788a96f3-4e25-4ab8-a941-b18a64a7f939",
   "metadata": {},
   "outputs": [
    {
     "data": {
      "text/plain": [
       "array([9, 0, 0, ..., 3, 0, 5], dtype=uint8)"
      ]
     },
     "execution_count": 7,
     "metadata": {},
     "output_type": "execute_result"
    }
   ],
   "source": [
    "train_labels"
   ]
  },
  {
   "cell_type": "code",
   "execution_count": 8,
   "id": "251a8897-400e-4519-ab64-8c24d8c72552",
   "metadata": {},
   "outputs": [
    {
     "data": {
      "text/plain": [
       "(10000, 28, 28)"
      ]
     },
     "execution_count": 8,
     "metadata": {},
     "output_type": "execute_result"
    }
   ],
   "source": [
    "test_images.shape"
   ]
  },
  {
   "cell_type": "code",
   "execution_count": 9,
   "id": "927f0460-cd89-4d93-a110-a696c19c8f37",
   "metadata": {},
   "outputs": [
    {
     "data": {
      "text/plain": [
       "10000"
      ]
     },
     "execution_count": 9,
     "metadata": {},
     "output_type": "execute_result"
    }
   ],
   "source": [
    "len(test_labels)"
   ]
  },
  {
   "cell_type": "code",
   "execution_count": 5,
   "id": "200e6b58-4ca7-4b0f-a94d-08e243ef8261",
   "metadata": {},
   "outputs": [],
   "source": [
    "train_images = train_images / 255.0\n",
    "\n",
    "test_images = test_images / 255.0"
   ]
  },
  {
   "cell_type": "code",
   "execution_count": 12,
   "id": "4e5db5a6-6c13-427d-a1e0-b4eb79c8665b",
   "metadata": {},
   "outputs": [],
   "source": [
    "model = tf.keras.Sequential([\n",
    "    tf.keras.layers.Flatten(input_shape=(28, 28)),\n",
    "    tf.keras.layers.Dense(128, activation='relu'),\n",
    "    tf.keras.layers.Dense(10)\n",
    "])"
   ]
  },
  {
   "cell_type": "code",
   "execution_count": 13,
   "id": "6dc01511-5d93-4e3d-a332-bae1ea0c6152",
   "metadata": {},
   "outputs": [],
   "source": [
    "model.compile(optimizer='adam',\n",
    "              loss=tf.keras.losses.SparseCategoricalCrossentropy(from_logits=True),\n",
    "              metrics=['accuracy'])"
   ]
  },
  {
   "cell_type": "code",
   "execution_count": 14,
   "id": "e91cd6d1-95ad-4190-a9f3-dbedf8836bff",
   "metadata": {},
   "outputs": [
    {
     "name": "stdout",
     "output_type": "stream",
     "text": [
      "Epoch 1/200\n",
      "1875/1875 [==============================] - 4s 2ms/step - loss: 0.4991 - accuracy: 0.8254\n",
      "Epoch 2/200\n",
      "1875/1875 [==============================] - 4s 2ms/step - loss: 0.3778 - accuracy: 0.8643\n",
      "Epoch 3/200\n",
      "1875/1875 [==============================] - 9s 5ms/step - loss: 0.3394 - accuracy: 0.8762\n",
      "Epoch 4/200\n",
      "1875/1875 [==============================] - 9s 5ms/step - loss: 0.3157 - accuracy: 0.8839\n",
      "Epoch 5/200\n",
      "1875/1875 [==============================] - 9s 5ms/step - loss: 0.2951 - accuracy: 0.8915\n",
      "Epoch 6/200\n",
      "1875/1875 [==============================] - 8s 4ms/step - loss: 0.2821 - accuracy: 0.8954\n",
      "Epoch 7/200\n",
      "1875/1875 [==============================] - 8s 4ms/step - loss: 0.2683 - accuracy: 0.9017\n",
      "Epoch 8/200\n",
      "1875/1875 [==============================] - 8s 4ms/step - loss: 0.2581 - accuracy: 0.9045\n",
      "Epoch 9/200\n",
      "1875/1875 [==============================] - 9s 5ms/step - loss: 0.2480 - accuracy: 0.9073\n",
      "Epoch 10/200\n",
      "1875/1875 [==============================] - 9s 5ms/step - loss: 0.2398 - accuracy: 0.9105\n",
      "Epoch 11/200\n",
      "1875/1875 [==============================] - 9s 5ms/step - loss: 0.2329 - accuracy: 0.9125\n",
      "Epoch 12/200\n",
      "1875/1875 [==============================] - 8s 4ms/step - loss: 0.2225 - accuracy: 0.9166\n",
      "Epoch 13/200\n",
      "1875/1875 [==============================] - 9s 5ms/step - loss: 0.2182 - accuracy: 0.9185\n",
      "Epoch 14/200\n",
      "1875/1875 [==============================] - 9s 5ms/step - loss: 0.2115 - accuracy: 0.9203\n",
      "Epoch 15/200\n",
      "1875/1875 [==============================] - 6s 3ms/step - loss: 0.2065 - accuracy: 0.9229\n",
      "Epoch 16/200\n",
      "1875/1875 [==============================] - 6s 3ms/step - loss: 0.2016 - accuracy: 0.9245\n",
      "Epoch 17/200\n",
      "1875/1875 [==============================] - 9s 5ms/step - loss: 0.1928 - accuracy: 0.9275\n",
      "Epoch 18/200\n",
      "1875/1875 [==============================] - 6s 3ms/step - loss: 0.1895 - accuracy: 0.9297\n",
      "Epoch 19/200\n",
      "1875/1875 [==============================] - 8s 4ms/step - loss: 0.1855 - accuracy: 0.9304\n",
      "Epoch 20/200\n",
      "1875/1875 [==============================] - 4s 2ms/step - loss: 0.1805 - accuracy: 0.9320\n",
      "Epoch 21/200\n",
      "1875/1875 [==============================] - 8s 4ms/step - loss: 0.1775 - accuracy: 0.9321\n",
      "Epoch 22/200\n",
      "1875/1875 [==============================] - 10s 5ms/step - loss: 0.1709 - accuracy: 0.9358\n",
      "Epoch 23/200\n",
      "1875/1875 [==============================] - 9s 5ms/step - loss: 0.1677 - accuracy: 0.9365\n",
      "Epoch 24/200\n",
      "1875/1875 [==============================] - 9s 5ms/step - loss: 0.1655 - accuracy: 0.9380\n",
      "Epoch 25/200\n",
      "1875/1875 [==============================] - 11s 6ms/step - loss: 0.1598 - accuracy: 0.9391\n",
      "Epoch 26/200\n",
      "1875/1875 [==============================] - 7s 4ms/step - loss: 0.1569 - accuracy: 0.9409\n",
      "Epoch 27/200\n",
      "1875/1875 [==============================] - 7s 4ms/step - loss: 0.1528 - accuracy: 0.9426\n",
      "Epoch 28/200\n",
      "1875/1875 [==============================] - 4s 2ms/step - loss: 0.1500 - accuracy: 0.9434\n",
      "Epoch 29/200\n",
      "1875/1875 [==============================] - 8s 4ms/step - loss: 0.1481 - accuracy: 0.9443\n",
      "Epoch 30/200\n",
      "1875/1875 [==============================] - 6s 3ms/step - loss: 0.1438 - accuracy: 0.9461\n",
      "Epoch 31/200\n",
      "1875/1875 [==============================] - 4s 2ms/step - loss: 0.1412 - accuracy: 0.9472\n",
      "Epoch 32/200\n",
      "1875/1875 [==============================] - 5s 2ms/step - loss: 0.1375 - accuracy: 0.9475\n",
      "Epoch 33/200\n",
      "1875/1875 [==============================] - 8s 4ms/step - loss: 0.1365 - accuracy: 0.9474\n",
      "Epoch 34/200\n",
      "1875/1875 [==============================] - 8s 5ms/step - loss: 0.1343 - accuracy: 0.9496\n",
      "Epoch 35/200\n",
      "1875/1875 [==============================] - 7s 4ms/step - loss: 0.1284 - accuracy: 0.9524\n",
      "Epoch 36/200\n",
      "1875/1875 [==============================] - 6s 3ms/step - loss: 0.1281 - accuracy: 0.9524\n",
      "Epoch 37/200\n",
      "1875/1875 [==============================] - 6s 3ms/step - loss: 0.1245 - accuracy: 0.9527\n",
      "Epoch 38/200\n",
      "1875/1875 [==============================] - 5s 3ms/step - loss: 0.1256 - accuracy: 0.9529\n",
      "Epoch 39/200\n",
      "1875/1875 [==============================] - 4s 2ms/step - loss: 0.1226 - accuracy: 0.9540\n",
      "Epoch 40/200\n",
      "1875/1875 [==============================] - 3s 2ms/step - loss: 0.1201 - accuracy: 0.9550\n",
      "Epoch 41/200\n",
      "1875/1875 [==============================] - 4s 2ms/step - loss: 0.1165 - accuracy: 0.9563\n",
      "Epoch 42/200\n",
      "1875/1875 [==============================] - 3s 2ms/step - loss: 0.1148 - accuracy: 0.9568\n",
      "Epoch 43/200\n",
      "1875/1875 [==============================] - 5s 3ms/step - loss: 0.1107 - accuracy: 0.9581\n",
      "Epoch 44/200\n",
      "1875/1875 [==============================] - 9s 5ms/step - loss: 0.1121 - accuracy: 0.9577\n",
      "Epoch 45/200\n",
      "1875/1875 [==============================] - 4s 2ms/step - loss: 0.1080 - accuracy: 0.9597\n",
      "Epoch 46/200\n",
      "1875/1875 [==============================] - 8s 4ms/step - loss: 0.1098 - accuracy: 0.9589\n",
      "Epoch 47/200\n",
      "1875/1875 [==============================] - 11s 6ms/step - loss: 0.1043 - accuracy: 0.9614\n",
      "Epoch 48/200\n",
      "1875/1875 [==============================] - 10s 5ms/step - loss: 0.1052 - accuracy: 0.9606\n",
      "Epoch 49/200\n",
      "1875/1875 [==============================] - 7s 4ms/step - loss: 0.1015 - accuracy: 0.9622\n",
      "Epoch 50/200\n",
      "1875/1875 [==============================] - 9s 5ms/step - loss: 0.0999 - accuracy: 0.9625\n",
      "Epoch 51/200\n",
      "1875/1875 [==============================] - 9s 5ms/step - loss: 0.0992 - accuracy: 0.9627\n",
      "Epoch 52/200\n",
      "1875/1875 [==============================] - 10s 5ms/step - loss: 0.0972 - accuracy: 0.9633\n",
      "Epoch 53/200\n",
      "1875/1875 [==============================] - 8s 4ms/step - loss: 0.0959 - accuracy: 0.9645\n",
      "Epoch 54/200\n",
      "1875/1875 [==============================] - 10s 5ms/step - loss: 0.0952 - accuracy: 0.9642\n",
      "Epoch 55/200\n",
      "1875/1875 [==============================] - 10s 5ms/step - loss: 0.0922 - accuracy: 0.9651\n",
      "Epoch 56/200\n",
      "1875/1875 [==============================] - 8s 4ms/step - loss: 0.0912 - accuracy: 0.9657\n",
      "Epoch 57/200\n",
      "1875/1875 [==============================] - 9s 5ms/step - loss: 0.0889 - accuracy: 0.9669\n",
      "Epoch 58/200\n",
      "1875/1875 [==============================] - 4s 2ms/step - loss: 0.0904 - accuracy: 0.9666\n",
      "Epoch 59/200\n",
      "1875/1875 [==============================] - 10s 5ms/step - loss: 0.0860 - accuracy: 0.9681\n",
      "Epoch 60/200\n",
      "1875/1875 [==============================] - 8s 4ms/step - loss: 0.0879 - accuracy: 0.9675\n",
      "Epoch 61/200\n",
      "1875/1875 [==============================] - 11s 6ms/step - loss: 0.0863 - accuracy: 0.9682\n",
      "Epoch 62/200\n",
      "1875/1875 [==============================] - 9s 5ms/step - loss: 0.0854 - accuracy: 0.9682\n",
      "Epoch 63/200\n",
      "1875/1875 [==============================] - 10s 5ms/step - loss: 0.0839 - accuracy: 0.9680\n",
      "Epoch 64/200\n",
      "1875/1875 [==============================] - 10s 5ms/step - loss: 0.0817 - accuracy: 0.9693\n",
      "Epoch 65/200\n",
      "1875/1875 [==============================] - 8s 4ms/step - loss: 0.0813 - accuracy: 0.9703\n",
      "Epoch 66/200\n",
      "1875/1875 [==============================] - 11s 6ms/step - loss: 0.0799 - accuracy: 0.9702\n",
      "Epoch 67/200\n",
      "1875/1875 [==============================] - 8s 4ms/step - loss: 0.0791 - accuracy: 0.9707\n",
      "Epoch 68/200\n",
      "1875/1875 [==============================] - 11s 6ms/step - loss: 0.0773 - accuracy: 0.9712\n",
      "Epoch 69/200\n",
      "1875/1875 [==============================] - 10s 5ms/step - loss: 0.0762 - accuracy: 0.9710\n",
      "Epoch 70/200\n",
      "1875/1875 [==============================] - 8s 4ms/step - loss: 0.0747 - accuracy: 0.9722\n",
      "Epoch 71/200\n",
      "1875/1875 [==============================] - 11s 6ms/step - loss: 0.0763 - accuracy: 0.9722\n",
      "Epoch 72/200\n",
      "1875/1875 [==============================] - 10s 5ms/step - loss: 0.0723 - accuracy: 0.9729\n",
      "Epoch 73/200\n",
      "1875/1875 [==============================] - 10s 5ms/step - loss: 0.0752 - accuracy: 0.9725\n",
      "Epoch 74/200\n",
      "1875/1875 [==============================] - 10s 5ms/step - loss: 0.0708 - accuracy: 0.9734\n",
      "Epoch 75/200\n",
      "1875/1875 [==============================] - 9s 5ms/step - loss: 0.0715 - accuracy: 0.9730\n",
      "Epoch 76/200\n",
      "1875/1875 [==============================] - 10s 6ms/step - loss: 0.0713 - accuracy: 0.9739\n",
      "Epoch 77/200\n",
      "1875/1875 [==============================] - 9s 5ms/step - loss: 0.0688 - accuracy: 0.9737\n",
      "Epoch 78/200\n",
      "1875/1875 [==============================] - 9s 5ms/step - loss: 0.0671 - accuracy: 0.9750\n",
      "Epoch 79/200\n",
      "1875/1875 [==============================] - 4s 2ms/step - loss: 0.0698 - accuracy: 0.9738\n",
      "Epoch 80/200\n",
      "1875/1875 [==============================] - 7s 4ms/step - loss: 0.0674 - accuracy: 0.9744\n",
      "Epoch 81/200\n",
      "1875/1875 [==============================] - 8s 4ms/step - loss: 0.0670 - accuracy: 0.9753\n",
      "Epoch 82/200\n",
      "1875/1875 [==============================] - 8s 4ms/step - loss: 0.0653 - accuracy: 0.9761\n",
      "Epoch 83/200\n",
      "1875/1875 [==============================] - 6s 3ms/step - loss: 0.0667 - accuracy: 0.9759\n",
      "Epoch 84/200\n",
      "1875/1875 [==============================] - 8s 4ms/step - loss: 0.0629 - accuracy: 0.9769\n",
      "Epoch 85/200\n",
      "1875/1875 [==============================] - 4s 2ms/step - loss: 0.0652 - accuracy: 0.9761\n",
      "Epoch 86/200\n",
      "1875/1875 [==============================] - 4s 2ms/step - loss: 0.0630 - accuracy: 0.9767\n",
      "Epoch 87/200\n",
      "1875/1875 [==============================] - 3s 2ms/step - loss: 0.0618 - accuracy: 0.9770\n",
      "Epoch 88/200\n",
      "1875/1875 [==============================] - 3s 2ms/step - loss: 0.0640 - accuracy: 0.9761\n",
      "Epoch 89/200\n",
      "1875/1875 [==============================] - 3s 2ms/step - loss: 0.0599 - accuracy: 0.9775\n",
      "Epoch 90/200\n",
      "1875/1875 [==============================] - 3s 2ms/step - loss: 0.0608 - accuracy: 0.9772\n",
      "Epoch 91/200\n",
      "1875/1875 [==============================] - 7s 4ms/step - loss: 0.0596 - accuracy: 0.9777\n",
      "Epoch 92/200\n",
      "1875/1875 [==============================] - 3s 2ms/step - loss: 0.0575 - accuracy: 0.9789\n",
      "Epoch 93/200\n",
      "1875/1875 [==============================] - 7s 4ms/step - loss: 0.0580 - accuracy: 0.9785\n",
      "Epoch 94/200\n",
      "1875/1875 [==============================] - 8s 5ms/step - loss: 0.0574 - accuracy: 0.9789\n",
      "Epoch 95/200\n",
      "1875/1875 [==============================] - 3s 2ms/step - loss: 0.0569 - accuracy: 0.9788\n",
      "Epoch 96/200\n",
      "1875/1875 [==============================] - 4s 2ms/step - loss: 0.0560 - accuracy: 0.9795\n",
      "Epoch 97/200\n",
      "1875/1875 [==============================] - 3s 2ms/step - loss: 0.0582 - accuracy: 0.9782\n",
      "Epoch 98/200\n",
      "1875/1875 [==============================] - 3s 2ms/step - loss: 0.0534 - accuracy: 0.9807\n",
      "Epoch 99/200\n",
      "1875/1875 [==============================] - 3s 2ms/step - loss: 0.0554 - accuracy: 0.9791\n",
      "Epoch 100/200\n",
      "1875/1875 [==============================] - 3s 2ms/step - loss: 0.0524 - accuracy: 0.9804\n",
      "Epoch 101/200\n",
      "1875/1875 [==============================] - 4s 2ms/step - loss: 0.0538 - accuracy: 0.9796\n",
      "Epoch 102/200\n",
      "1875/1875 [==============================] - 3s 2ms/step - loss: 0.0536 - accuracy: 0.9804\n",
      "Epoch 103/200\n",
      "1875/1875 [==============================] - 3s 2ms/step - loss: 0.0553 - accuracy: 0.9791\n",
      "Epoch 104/200\n",
      "1875/1875 [==============================] - 3s 2ms/step - loss: 0.0486 - accuracy: 0.9819\n",
      "Epoch 105/200\n",
      "1875/1875 [==============================] - 7s 4ms/step - loss: 0.0525 - accuracy: 0.9799\n",
      "Epoch 106/200\n",
      "1875/1875 [==============================] - 8s 4ms/step - loss: 0.0511 - accuracy: 0.9814\n",
      "Epoch 107/200\n",
      "1875/1875 [==============================] - 8s 4ms/step - loss: 0.0505 - accuracy: 0.9813\n",
      "Epoch 108/200\n",
      "1875/1875 [==============================] - 7s 4ms/step - loss: 0.0494 - accuracy: 0.9815\n",
      "Epoch 109/200\n",
      "1875/1875 [==============================] - 3s 2ms/step - loss: 0.0500 - accuracy: 0.9818\n",
      "Epoch 110/200\n",
      "1875/1875 [==============================] - 7s 4ms/step - loss: 0.0484 - accuracy: 0.9822\n",
      "Epoch 111/200\n",
      "1875/1875 [==============================] - 7s 4ms/step - loss: 0.0499 - accuracy: 0.9812\n",
      "Epoch 112/200\n",
      "1875/1875 [==============================] - 5s 3ms/step - loss: 0.0473 - accuracy: 0.9825\n",
      "Epoch 113/200\n",
      "1875/1875 [==============================] - 3s 2ms/step - loss: 0.0489 - accuracy: 0.9822\n",
      "Epoch 114/200\n",
      "1875/1875 [==============================] - 6s 3ms/step - loss: 0.0475 - accuracy: 0.9821\n",
      "Epoch 115/200\n",
      "1875/1875 [==============================] - 10s 5ms/step - loss: 0.0461 - accuracy: 0.9836\n",
      "Epoch 116/200\n",
      "1875/1875 [==============================] - 10s 5ms/step - loss: 0.0475 - accuracy: 0.9824\n",
      "Epoch 117/200\n",
      "1875/1875 [==============================] - 7s 4ms/step - loss: 0.0466 - accuracy: 0.9825\n",
      "Epoch 118/200\n",
      "1875/1875 [==============================] - 7s 4ms/step - loss: 0.0470 - accuracy: 0.9827\n",
      "Epoch 119/200\n",
      "1875/1875 [==============================] - 8s 4ms/step - loss: 0.0439 - accuracy: 0.9836\n",
      "Epoch 120/200\n",
      "1875/1875 [==============================] - 4s 2ms/step - loss: 0.0465 - accuracy: 0.9828\n",
      "Epoch 121/200\n",
      "1875/1875 [==============================] - 3s 2ms/step - loss: 0.0457 - accuracy: 0.9830\n",
      "Epoch 122/200\n",
      "1875/1875 [==============================] - 3s 2ms/step - loss: 0.0445 - accuracy: 0.9832\n",
      "Epoch 123/200\n",
      "1875/1875 [==============================] - 7s 4ms/step - loss: 0.0413 - accuracy: 0.9841\n",
      "Epoch 124/200\n",
      "1875/1875 [==============================] - 6s 3ms/step - loss: 0.0447 - accuracy: 0.9838\n",
      "Epoch 125/200\n",
      "1875/1875 [==============================] - 4s 2ms/step - loss: 0.0463 - accuracy: 0.9833\n",
      "Epoch 126/200\n",
      "1875/1875 [==============================] - 4s 2ms/step - loss: 0.0402 - accuracy: 0.9853\n",
      "Epoch 127/200\n",
      "1875/1875 [==============================] - 3s 2ms/step - loss: 0.0413 - accuracy: 0.9857\n",
      "Epoch 128/200\n",
      "1875/1875 [==============================] - 4s 2ms/step - loss: 0.0429 - accuracy: 0.9837\n",
      "Epoch 129/200\n",
      "1875/1875 [==============================] - 3s 2ms/step - loss: 0.0408 - accuracy: 0.9849\n",
      "Epoch 130/200\n",
      "1875/1875 [==============================] - 6s 3ms/step - loss: 0.0421 - accuracy: 0.9847\n",
      "Epoch 131/200\n",
      "1875/1875 [==============================] - 8s 4ms/step - loss: 0.0416 - accuracy: 0.9847\n",
      "Epoch 132/200\n",
      "1875/1875 [==============================] - 7s 4ms/step - loss: 0.0412 - accuracy: 0.9850\n",
      "Epoch 133/200\n",
      "1875/1875 [==============================] - 9s 5ms/step - loss: 0.0399 - accuracy: 0.9853\n",
      "Epoch 134/200\n",
      "1875/1875 [==============================] - 8s 4ms/step - loss: 0.0422 - accuracy: 0.9846\n",
      "Epoch 135/200\n",
      "1875/1875 [==============================] - 7s 4ms/step - loss: 0.0416 - accuracy: 0.9850\n",
      "Epoch 136/200\n",
      "1875/1875 [==============================] - 7s 4ms/step - loss: 0.0377 - accuracy: 0.9859\n",
      "Epoch 137/200\n",
      "1875/1875 [==============================] - 3s 2ms/step - loss: 0.0394 - accuracy: 0.9860\n",
      "Epoch 138/200\n",
      "1875/1875 [==============================] - 3s 2ms/step - loss: 0.0375 - accuracy: 0.9863\n",
      "Epoch 139/200\n",
      "1875/1875 [==============================] - 3s 2ms/step - loss: 0.0392 - accuracy: 0.9857\n",
      "Epoch 140/200\n",
      "1875/1875 [==============================] - 4s 2ms/step - loss: 0.0405 - accuracy: 0.9851\n",
      "Epoch 141/200\n",
      "1875/1875 [==============================] - 3s 2ms/step - loss: 0.0349 - accuracy: 0.9875\n",
      "Epoch 142/200\n",
      "1875/1875 [==============================] - 5s 3ms/step - loss: 0.0436 - accuracy: 0.9845\n",
      "Epoch 143/200\n",
      "1875/1875 [==============================] - 8s 4ms/step - loss: 0.0317 - accuracy: 0.9881\n",
      "Epoch 144/200\n",
      "1875/1875 [==============================] - 9s 5ms/step - loss: 0.0404 - accuracy: 0.9850\n",
      "Epoch 145/200\n",
      "1875/1875 [==============================] - 9s 5ms/step - loss: 0.0384 - accuracy: 0.9856\n",
      "Epoch 146/200\n",
      "1875/1875 [==============================] - 8s 4ms/step - loss: 0.0362 - accuracy: 0.9868\n",
      "Epoch 147/200\n",
      "1875/1875 [==============================] - 8s 4ms/step - loss: 0.0359 - accuracy: 0.9868\n",
      "Epoch 148/200\n",
      "1875/1875 [==============================] - 4s 2ms/step - loss: 0.0369 - accuracy: 0.9867\n",
      "Epoch 149/200\n",
      "1875/1875 [==============================] - 5s 3ms/step - loss: 0.0360 - accuracy: 0.9865\n",
      "Epoch 150/200\n",
      "1875/1875 [==============================] - 3s 2ms/step - loss: 0.0371 - accuracy: 0.9860\n",
      "Epoch 151/200\n",
      "1875/1875 [==============================] - 4s 2ms/step - loss: 0.0360 - accuracy: 0.9871\n",
      "Epoch 152/200\n",
      "1875/1875 [==============================] - 7s 4ms/step - loss: 0.0355 - accuracy: 0.9870\n",
      "Epoch 153/200\n",
      "1875/1875 [==============================] - 5s 2ms/step - loss: 0.0332 - accuracy: 0.9875\n",
      "Epoch 154/200\n",
      "1875/1875 [==============================] - 5s 3ms/step - loss: 0.0355 - accuracy: 0.9870\n",
      "Epoch 155/200\n",
      "1875/1875 [==============================] - 4s 2ms/step - loss: 0.0368 - accuracy: 0.9868\n",
      "Epoch 156/200\n",
      "1875/1875 [==============================] - 4s 2ms/step - loss: 0.0345 - accuracy: 0.9875\n",
      "Epoch 157/200\n",
      "1875/1875 [==============================] - 8s 4ms/step - loss: 0.0336 - accuracy: 0.9877\n",
      "Epoch 158/200\n",
      "1875/1875 [==============================] - 8s 4ms/step - loss: 0.0338 - accuracy: 0.9879\n",
      "Epoch 159/200\n",
      "1875/1875 [==============================] - 4s 2ms/step - loss: 0.0347 - accuracy: 0.9873\n",
      "Epoch 160/200\n",
      "1875/1875 [==============================] - 8s 5ms/step - loss: 0.0311 - accuracy: 0.9888\n",
      "Epoch 161/200\n",
      "1875/1875 [==============================] - 9s 5ms/step - loss: 0.0346 - accuracy: 0.9877\n",
      "Epoch 162/200\n",
      "1875/1875 [==============================] - 10s 5ms/step - loss: 0.0351 - accuracy: 0.9874\n",
      "Epoch 163/200\n",
      "1875/1875 [==============================] - 8s 4ms/step - loss: 0.0300 - accuracy: 0.9891\n",
      "Epoch 164/200\n",
      "1875/1875 [==============================] - 10s 5ms/step - loss: 0.0353 - accuracy: 0.9881\n",
      "Epoch 165/200\n",
      "1875/1875 [==============================] - 9s 5ms/step - loss: 0.0340 - accuracy: 0.9877\n",
      "Epoch 166/200\n",
      "1875/1875 [==============================] - 10s 5ms/step - loss: 0.0314 - accuracy: 0.9884\n",
      "Epoch 167/200\n",
      "1875/1875 [==============================] - 7s 4ms/step - loss: 0.0335 - accuracy: 0.9880\n",
      "Epoch 168/200\n",
      "1875/1875 [==============================] - 8s 4ms/step - loss: 0.0279 - accuracy: 0.9899\n",
      "Epoch 169/200\n",
      "1875/1875 [==============================] - 9s 5ms/step - loss: 0.0360 - accuracy: 0.9869\n",
      "Epoch 170/200\n",
      "1875/1875 [==============================] - 8s 4ms/step - loss: 0.0314 - accuracy: 0.9881\n",
      "Epoch 171/200\n",
      "1875/1875 [==============================] - 10s 5ms/step - loss: 0.0317 - accuracy: 0.9886\n",
      "Epoch 172/200\n",
      "1875/1875 [==============================] - 8s 4ms/step - loss: 0.0303 - accuracy: 0.9888\n",
      "Epoch 173/200\n",
      "1875/1875 [==============================] - 9s 5ms/step - loss: 0.0299 - accuracy: 0.9891\n",
      "Epoch 174/200\n",
      "1875/1875 [==============================] - 8s 4ms/step - loss: 0.0347 - accuracy: 0.9876\n",
      "Epoch 175/200\n",
      "1875/1875 [==============================] - 9s 5ms/step - loss: 0.0288 - accuracy: 0.9894\n",
      "Epoch 176/200\n",
      "1875/1875 [==============================] - 8s 5ms/step - loss: 0.0327 - accuracy: 0.9884\n",
      "Epoch 177/200\n",
      "1875/1875 [==============================] - 9s 5ms/step - loss: 0.0285 - accuracy: 0.9899\n",
      "Epoch 178/200\n",
      "1875/1875 [==============================] - 9s 5ms/step - loss: 0.0296 - accuracy: 0.9893\n",
      "Epoch 179/200\n",
      "1875/1875 [==============================] - 8s 4ms/step - loss: 0.0302 - accuracy: 0.9892\n",
      "Epoch 180/200\n",
      "1875/1875 [==============================] - 9s 5ms/step - loss: 0.0281 - accuracy: 0.9902\n",
      "Epoch 181/200\n",
      "1875/1875 [==============================] - 8s 4ms/step - loss: 0.0288 - accuracy: 0.9900\n",
      "Epoch 182/200\n",
      "1875/1875 [==============================] - 9s 5ms/step - loss: 0.0313 - accuracy: 0.9887\n",
      "Epoch 183/200\n",
      "1875/1875 [==============================] - 8s 4ms/step - loss: 0.0281 - accuracy: 0.9903\n",
      "Epoch 184/200\n",
      "1875/1875 [==============================] - 10s 5ms/step - loss: 0.0317 - accuracy: 0.9889\n",
      "Epoch 185/200\n",
      "1875/1875 [==============================] - 9s 5ms/step - loss: 0.0261 - accuracy: 0.9908\n",
      "Epoch 186/200\n",
      "1875/1875 [==============================] - 9s 5ms/step - loss: 0.0290 - accuracy: 0.9892\n",
      "Epoch 187/200\n",
      "1875/1875 [==============================] - 9s 5ms/step - loss: 0.0332 - accuracy: 0.9885\n",
      "Epoch 188/200\n",
      "1875/1875 [==============================] - 9s 5ms/step - loss: 0.0299 - accuracy: 0.9894\n",
      "Epoch 189/200\n",
      "1875/1875 [==============================] - 6s 3ms/step - loss: 0.0255 - accuracy: 0.9909\n",
      "Epoch 190/200\n",
      "1875/1875 [==============================] - 6s 3ms/step - loss: 0.0276 - accuracy: 0.9904\n",
      "Epoch 191/200\n",
      "1875/1875 [==============================] - 9s 5ms/step - loss: 0.0276 - accuracy: 0.9903\n",
      "Epoch 192/200\n",
      "1875/1875 [==============================] - 8s 4ms/step - loss: 0.0291 - accuracy: 0.9901\n",
      "Epoch 193/200\n",
      "1875/1875 [==============================] - 8s 4ms/step - loss: 0.0264 - accuracy: 0.9908\n",
      "Epoch 194/200\n",
      "1875/1875 [==============================] - 9s 5ms/step - loss: 0.0280 - accuracy: 0.9898\n",
      "Epoch 195/200\n",
      "1875/1875 [==============================] - 7s 4ms/step - loss: 0.0263 - accuracy: 0.9904\n",
      "Epoch 196/200\n",
      "1875/1875 [==============================] - 10s 5ms/step - loss: 0.0294 - accuracy: 0.9893\n",
      "Epoch 197/200\n",
      "1875/1875 [==============================] - 9s 5ms/step - loss: 0.0275 - accuracy: 0.9902\n",
      "Epoch 198/200\n",
      "1875/1875 [==============================] - 8s 4ms/step - loss: 0.0273 - accuracy: 0.9904\n",
      "Epoch 199/200\n",
      "1875/1875 [==============================] - 10s 5ms/step - loss: 0.0260 - accuracy: 0.9910\n",
      "Epoch 200/200\n",
      "1875/1875 [==============================] - 8s 4ms/step - loss: 0.0263 - accuracy: 0.9908\n"
     ]
    },
    {
     "data": {
      "text/plain": [
       "<keras.src.callbacks.History at 0x2264f9b15b0>"
      ]
     },
     "execution_count": 14,
     "metadata": {},
     "output_type": "execute_result"
    }
   ],
   "source": [
    "model.fit(train_images, train_labels, epochs=200)"
   ]
  },
  {
   "cell_type": "code",
   "execution_count": 16,
   "id": "57786460-8858-4b9b-95b2-a81482f2dfc4",
   "metadata": {},
   "outputs": [
    {
     "name": "stdout",
     "output_type": "stream",
     "text": [
      "313/313 [==============================] - 1s 1ms/step - loss: 1.2719 - accuracy: 0.8809\n",
      "\n",
      "Test accuracy: 0.8809000253677368\n"
     ]
    }
   ],
   "source": [
    "test_loss, test_acc = model.evaluate(test_images,  test_labels, verbose=1)\n",
    "\n",
    "print('\\nTest accuracy:', test_acc)"
   ]
  },
  {
   "cell_type": "code",
   "execution_count": 17,
   "id": "107c9e15-76b0-40f2-841b-637f1a8fbf2a",
   "metadata": {},
   "outputs": [
    {
     "name": "stdout",
     "output_type": "stream",
     "text": [
      "313/313 [==============================] - 1s 1ms/step\n"
     ]
    }
   ],
   "source": [
    "y = model.predict(test_images)\n",
    "y1 = []\n",
    "for i in range(len(y)):\n",
    "    y1.append(np.argmax(y[i]))"
   ]
  },
  {
   "cell_type": "code",
   "execution_count": 18,
   "id": "e2118cb9-0963-4d9a-a062-e63680e29923",
   "metadata": {},
   "outputs": [
    {
     "data": {
      "image/png": "[encoded data removed]",
      "text/plain": [
       "<Figure size 1000x1000 with 2 Axes>"
      ]
     },
     "metadata": {},
     "output_type": "display_data"
    }
   ],
   "source": [
    "# confusion matrix\n",
    "from sklearn.metrics import confusion_matrix\n",
    "\n",
    "fig = plt.figure(figsize=(10, 10)) \n",
    "sns.heatmap(confusion_matrix(test_labels,y1), square=True, annot=True, cbar=True)\n",
    "plt.xlabel('predicted value')\n",
    "plt.ylabel('true value');"
   ]
  }
 ],
 "metadata": {
  "kernelspec": {
   "display_name": "Python 3 (ipykernel)",
   "language": "python",
   "name": "python3"
  },
  "language_info": {
   "codemirror_mode": {
    "name": "ipython",
    "version": 3
   },
   "file_extension": ".py",
   "mimetype": "text/x-python",
   "name": "python",
   "nbconvert_exporter": "python",
   "pygments_lexer": "ipython3",
   "version": "3.8.16"
  }
 },
 "nbformat": 4,
 "nbformat_minor": 5
}
