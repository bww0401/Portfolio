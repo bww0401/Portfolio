{
  "cells": [
    {
      "cell_type": "markdown",
      "metadata": {
        "id": "6qJqxb954YV9"
      },
      "source": [
        "# Deep Learning Final Project: Machine Translation with Attention for Chinese-to-English\n",
        ">[ 專案題目 ]： “Machine Translation with Attention for Chinese-to-English” <br>\n",
        "[ 專案內容 ]： 參考 [Ref 1: Neural machine translation with attention]。<br>\n",
        "在 Kaggle 或 Google Colab 完成下列工作：<br>\n",
        "(1) 利用 Attention models 以及 Anki 訓練資料集: Mandarin Chinese-English cmn-eng.zip <br>\n",
        "[Ref. 2]，建立一個 中文對英文的機器翻譯模型。 <br>\n",
        "(2) 請利用該模型翻譯五句中文句子，檢查並比較其輸出結果，做出結論 (Conclusion)。 <br>\n",
        "<註記> : 此資料集為簡體中文對照英文\n",
        "-------------------------\n",
        "[ REFERENCE ]:\n",
        "1. TensorFlow -“Neural machine translation with attention”\n",
        "https://www.tensorflow.org/text/tutorials/nmt_with_attention\n",
        "2. Tab-delimited Bilingual Sentence Pairs -“Mandarin Chinese-English cmn-eng.zip”,\n",
        "https://www.manythings.org/anki/\n",
        "3. TensorFlow -“Neural machine translation with a Transformer and Keras”\n",
        "https://www.tensorflow.org/text/tutorials/transformer"
      ]
    },
    {
      "cell_type": "markdown",
      "metadata": {
        "id": "x7fbTb3yrIrZ"
      },
      "source": [
        "## **Setup**"
      ]
    },
    {
      "cell_type": "code",
      "execution_count": null,
      "metadata": {
        "colab": {
          "base_uri": "https://localhost:8080/"
        },
        "id": "mZv1LImCrZ9X",
        "outputId": "2ede041b-a156-4362-a0e4-8e147d60248c"
      },
      "outputs": [
        {
          "name": "stdout",
          "output_type": "stream",
          "text": [
            "Collecting tensorflow-text\n",
            "  Downloading tensorflow_text-2.15.0-cp310-cp310-manylinux_2_17_x86_64.manylinux2014_x86_64.whl (5.2 MB)\n",
            "\u001b[2K     \u001b[90m━━━━━━━━━━━━━━━━━━━━━━━━━━━━━━━━━━━━━━━━\u001b[0m \u001b[32m5.2/5.2 MB\u001b[0m \u001b[31m25.8 MB/s\u001b[0m eta \u001b[36m0:00:00\u001b[0m\n",
            "\u001b[?25hRequirement already satisfied: tensorflow-hub>=0.13.0 in /usr/local/lib/python3.10/dist-packages (from tensorflow-text) (0.15.0)\n",
            "Requirement already satisfied: tensorflow<2.16,>=2.15.0 in /usr/local/lib/python3.10/dist-packages (from tensorflow-text) (2.15.0)\n",
            "Requirement already satisfied: absl-py>=1.0.0 in /usr/local/lib/python3.10/dist-packages (from tensorflow<2.16,>=2.15.0->tensorflow-text) (1.4.0)\n",
            "Requirement already satisfied: astunparse>=1.6.0 in /usr/local/lib/python3.10/dist-packages (from tensorflow<2.16,>=2.15.0->tensorflow-text) (1.6.3)\n",
            "Requirement already satisfied: flatbuffers>=23.5.26 in /usr/local/lib/python3.10/dist-packages (from tensorflow<2.16,>=2.15.0->tensorflow-text) (23.5.26)\n",
            "Requirement already satisfied: gast!=0.5.0,!=0.5.1,!=0.5.2,>=0.2.1 in /usr/local/lib/python3.10/dist-packages (from tensorflow<2.16,>=2.15.0->tensorflow-text) (0.5.4)\n",
            "Requirement already satisfied: google-pasta>=0.1.1 in /usr/local/lib/python3.10/dist-packages (from tensorflow<2.16,>=2.15.0->tensorflow-text) (0.2.0)\n",
            "Requirement already satisfied: h5py>=2.9.0 in /usr/local/lib/python3.10/dist-packages (from tensorflow<2.16,>=2.15.0->tensorflow-text) (3.9.0)\n",
            "Requirement already satisfied: libclang>=13.0.0 in /usr/local/lib/python3.10/dist-packages (from tensorflow<2.16,>=2.15.0->tensorflow-text) (16.0.6)\n",
            "Requirement already satisfied: ml-dtypes~=0.2.0 in /usr/local/lib/python3.10/dist-packages (from tensorflow<2.16,>=2.15.0->tensorflow-text) (0.2.0)\n",
            "Requirement already satisfied: numpy<2.0.0,>=1.23.5 in /usr/local/lib/python3.10/dist-packages (from tensorflow<2.16,>=2.15.0->tensorflow-text) (1.23.5)\n",
            "Requirement already satisfied: opt-einsum>=2.3.2 in /usr/local/lib/python3.10/dist-packages (from tensorflow<2.16,>=2.15.0->tensorflow-text) (3.3.0)\n",
            "Requirement already satisfied: packaging in /usr/local/lib/python3.10/dist-packages (from tensorflow<2.16,>=2.15.0->tensorflow-text) (23.2)\n",
            "Requirement already satisfied: protobuf!=4.21.0,!=4.21.1,!=4.21.2,!=4.21.3,!=4.21.4,!=4.21.5,<5.0.0dev,>=3.20.3 in /usr/local/lib/python3.10/dist-packages (from tensorflow<2.16,>=2.15.0->tensorflow-text) (3.20.3)\n",
            "Requirement already satisfied: setuptools in /usr/local/lib/python3.10/dist-packages (from tensorflow<2.16,>=2.15.0->tensorflow-text) (67.7.2)\n",
            "Requirement already satisfied: six>=1.12.0 in /usr/local/lib/python3.10/dist-packages (from tensorflow<2.16,>=2.15.0->tensorflow-text) (1.16.0)\n",
            "Requirement already satisfied: termcolor>=1.1.0 in /usr/local/lib/python3.10/dist-packages (from tensorflow<2.16,>=2.15.0->tensorflow-text) (2.4.0)\n",
            "Requirement already satisfied: typing-extensions>=3.6.6 in /usr/local/lib/python3.10/dist-packages (from tensorflow<2.16,>=2.15.0->tensorflow-text) (4.5.0)\n",
            "Requirement already satisfied: wrapt<1.15,>=1.11.0 in /usr/local/lib/python3.10/dist-packages (from tensorflow<2.16,>=2.15.0->tensorflow-text) (1.14.1)\n",
            "Requirement already satisfied: tensorflow-io-gcs-filesystem>=0.23.1 in /usr/local/lib/python3.10/dist-packages (from tensorflow<2.16,>=2.15.0->tensorflow-text) (0.35.0)\n",
            "Requirement already satisfied: grpcio<2.0,>=1.24.3 in /usr/local/lib/python3.10/dist-packages (from tensorflow<2.16,>=2.15.0->tensorflow-text) (1.60.0)\n",
            "Requirement already satisfied: tensorboard<2.16,>=2.15 in /usr/local/lib/python3.10/dist-packages (from tensorflow<2.16,>=2.15.0->tensorflow-text) (2.15.1)\n",
            "Requirement already satisfied: tensorflow-estimator<2.16,>=2.15.0 in /usr/local/lib/python3.10/dist-packages (from tensorflow<2.16,>=2.15.0->tensorflow-text) (2.15.0)\n",
            "Requirement already satisfied: keras<2.16,>=2.15.0 in /usr/local/lib/python3.10/dist-packages (from tensorflow<2.16,>=2.15.0->tensorflow-text) (2.15.0)\n",
            "Requirement already satisfied: wheel<1.0,>=0.23.0 in /usr/local/lib/python3.10/dist-packages (from astunparse>=1.6.0->tensorflow<2.16,>=2.15.0->tensorflow-text) (0.42.0)\n",
            "Requirement already satisfied: google-auth<3,>=1.6.3 in /usr/local/lib/python3.10/dist-packages (from tensorboard<2.16,>=2.15->tensorflow<2.16,>=2.15.0->tensorflow-text) (2.17.3)\n",
            "Requirement already satisfied: google-auth-oauthlib<2,>=0.5 in /usr/local/lib/python3.10/dist-packages (from tensorboard<2.16,>=2.15->tensorflow<2.16,>=2.15.0->tensorflow-text) (1.2.0)\n",
            "Requirement already satisfied: markdown>=2.6.8 in /usr/local/lib/python3.10/dist-packages (from tensorboard<2.16,>=2.15->tensorflow<2.16,>=2.15.0->tensorflow-text) (3.5.1)\n",
            "Requirement already satisfied: requests<3,>=2.21.0 in /usr/local/lib/python3.10/dist-packages (from tensorboard<2.16,>=2.15->tensorflow<2.16,>=2.15.0->tensorflow-text) (2.31.0)\n",
            "Requirement already satisfied: tensorboard-data-server<0.8.0,>=0.7.0 in /usr/local/lib/python3.10/dist-packages (from tensorboard<2.16,>=2.15->tensorflow<2.16,>=2.15.0->tensorflow-text) (0.7.2)\n",
            "Requirement already satisfied: werkzeug>=1.0.1 in /usr/local/lib/python3.10/dist-packages (from tensorboard<2.16,>=2.15->tensorflow<2.16,>=2.15.0->tensorflow-text) (3.0.1)\n",
            "Requirement already satisfied: cachetools<6.0,>=2.0.0 in /usr/local/lib/python3.10/dist-packages (from google-auth<3,>=1.6.3->tensorboard<2.16,>=2.15->tensorflow<2.16,>=2.15.0->tensorflow-text) (5.3.2)\n",
            "Requirement already satisfied: pyasn1-modules>=0.2.1 in /usr/local/lib/python3.10/dist-packages (from google-auth<3,>=1.6.3->tensorboard<2.16,>=2.15->tensorflow<2.16,>=2.15.0->tensorflow-text) (0.3.0)\n",
            "Requirement already satisfied: rsa<5,>=3.1.4 in /usr/local/lib/python3.10/dist-packages (from google-auth<3,>=1.6.3->tensorboard<2.16,>=2.15->tensorflow<2.16,>=2.15.0->tensorflow-text) (4.9)\n",
            "Requirement already satisfied: requests-oauthlib>=0.7.0 in /usr/local/lib/python3.10/dist-packages (from google-auth-oauthlib<2,>=0.5->tensorboard<2.16,>=2.15->tensorflow<2.16,>=2.15.0->tensorflow-text) (1.3.1)\n",
            "Requirement already satisfied: charset-normalizer<4,>=2 in /usr/local/lib/python3.10/dist-packages (from requests<3,>=2.21.0->tensorboard<2.16,>=2.15->tensorflow<2.16,>=2.15.0->tensorflow-text) (3.3.2)\n",
            "Requirement already satisfied: idna<4,>=2.5 in /usr/local/lib/python3.10/dist-packages (from requests<3,>=2.21.0->tensorboard<2.16,>=2.15->tensorflow<2.16,>=2.15.0->tensorflow-text) (3.6)\n",
            "Requirement already satisfied: urllib3<3,>=1.21.1 in /usr/local/lib/python3.10/dist-packages (from requests<3,>=2.21.0->tensorboard<2.16,>=2.15->tensorflow<2.16,>=2.15.0->tensorflow-text) (2.0.7)\n",
            "Requirement already satisfied: certifi>=2017.4.17 in /usr/local/lib/python3.10/dist-packages (from requests<3,>=2.21.0->tensorboard<2.16,>=2.15->tensorflow<2.16,>=2.15.0->tensorflow-text) (2023.11.17)\n",
            "Requirement already satisfied: MarkupSafe>=2.1.1 in /usr/local/lib/python3.10/dist-packages (from werkzeug>=1.0.1->tensorboard<2.16,>=2.15->tensorflow<2.16,>=2.15.0->tensorflow-text) (2.1.3)\n",
            "Requirement already satisfied: pyasn1<0.6.0,>=0.4.6 in /usr/local/lib/python3.10/dist-packages (from pyasn1-modules>=0.2.1->google-auth<3,>=1.6.3->tensorboard<2.16,>=2.15->tensorflow<2.16,>=2.15.0->tensorflow-text) (0.5.1)\n",
            "Requirement already satisfied: oauthlib>=3.0.0 in /usr/local/lib/python3.10/dist-packages (from requests-oauthlib>=0.7.0->google-auth-oauthlib<2,>=0.5->tensorboard<2.16,>=2.15->tensorflow<2.16,>=2.15.0->tensorflow-text) (3.2.2)\n",
            "Installing collected packages: tensorflow-text\n",
            "Successfully installed tensorflow-text-2.15.0\n",
            "Collecting einops\n",
            "  Downloading einops-0.7.0-py3-none-any.whl (44 kB)\n",
            "\u001b[2K     \u001b[90m━━━━━━━━━━━━━━━━━━━━━━━━━━━━━━━━━━━━━━━━\u001b[0m \u001b[32m44.6/44.6 kB\u001b[0m \u001b[31m149.7 kB/s\u001b[0m eta \u001b[36m0:00:00\u001b[0m\n",
            "\u001b[?25hInstalling collected packages: einops\n",
            "Successfully installed einops-0.7.0\n"
          ]
        }
      ],
      "source": [
        "!pip3 install tensorflow-text\n",
        "!pip install einops"
      ]
    },
    {
      "cell_type": "code",
      "execution_count": null,
      "metadata": {
        "id": "qVkb8NPurAOT"
      },
      "outputs": [],
      "source": [
        "import numpy as np\n",
        "\n",
        "import typing\n",
        "from typing import Any, Tuple\n",
        "\n",
        "import einops\n",
        "import matplotlib.pyplot as plt\n",
        "import matplotlib.ticker as ticker\n",
        "\n",
        "import tensorflow as tf\n",
        "import tensorflow_text as tf_text"
      ]
    },
    {
      "cell_type": "code",
      "execution_count": null,
      "metadata": {
        "id": "XOT5v6TzrCnq"
      },
      "outputs": [],
      "source": [
        "#@title\n",
        "class ShapeChecker():\n",
        "  def __init__(self):\n",
        "    # Keep a cache of every axis-name seen\n",
        "    self.shapes = {}\n",
        "\n",
        "  def __call__(self, tensor, names, broadcast=False):\n",
        "    if not tf.executing_eagerly():\n",
        "      return\n",
        "\n",
        "    parsed = einops.parse_shape(tensor, names)\n",
        "\n",
        "    for name, new_dim in parsed.items():\n",
        "      old_dim = self.shapes.get(name, None)\n",
        "\n",
        "      if (broadcast and new_dim == 1):\n",
        "        continue\n",
        "\n",
        "      if old_dim is None:\n",
        "        # If the axis name is new, add its length to the cache.\n",
        "        self.shapes[name] = new_dim\n",
        "        continue\n",
        "\n",
        "      if new_dim != old_dim:\n",
        "        raise ValueError(f\"Shape mismatch for dimension: '{name}'\\n\"\n",
        "                         f\"    found: {new_dim}\\n\"\n",
        "                         f\"    expected: {old_dim}\\n\")"
      ]
    },
    {
      "cell_type": "markdown",
      "metadata": {
        "id": "tioNfwnprf9W"
      },
      "source": [
        "## **The Data**"
      ]
    },
    {
      "cell_type": "code",
      "execution_count": null,
      "metadata": {
        "colab": {
          "base_uri": "https://localhost:8080/"
        },
        "id": "IafmnF6YIm5X",
        "outputId": "43863b69-ff9b-4f2f-ca5e-1a4802b7471e"
      },
      "outputs": [
        {
          "name": "stdout",
          "output_type": "stream",
          "text": [
            "Mounted at /content/drive\n"
          ]
        }
      ],
      "source": [
        "# Load the Drive helper and mount\n",
        "\n",
        "from google.colab import drive\n",
        "\n",
        "drive.mount('/content/drive')"
      ]
    },
    {
      "cell_type": "code",
      "execution_count": null,
      "metadata": {
        "colab": {
          "base_uri": "https://localhost:8080/"
        },
        "id": "oX9Tiyr9I5R2",
        "outputId": "af1a01ec-d7a7-45cc-d349-c0e274c958e3"
      },
      "outputs": [
        {
          "name": "stdout",
          "output_type": "stream",
          "text": [
            "'/content/drive/My Drive/Colab Notebooks/cmn-eng/cmn.txt'\n"
          ]
        }
      ],
      "source": [
        "# download the file\n",
        "# the file has lots of noises\n",
        "\n",
        "from pathlib import Path\n",
        "\n",
        "!ls \"/content/drive/My Drive/Colab Notebooks/cmn-eng/cmn.txt\"\n",
        "\n",
        "INPUT_PATH = \"/content/drive/My Drive/Colab Notebooks/cmn-eng/cmn.txt\"\n",
        "\n",
        "path_to_file = Path(INPUT_PATH)"
      ]
    },
    {
      "cell_type": "code",
      "execution_count": null,
      "metadata": {
        "id": "ReiOADQfunVB"
      },
      "outputs": [],
      "source": [
        "def load_data(path):\n",
        "  text = path.read_text(encoding='utf-8')\n",
        "\n",
        "  lines = text.splitlines()\n",
        "  words = [line.split('\\t') for line in lines]\n",
        "\n",
        "  context = np.array([context for target, context, CCBY in words])\n",
        "  target = np.array([target for target, context, CCBY in words])\n",
        "\n",
        "  return target, context"
      ]
    },
    {
      "cell_type": "code",
      "execution_count": null,
      "metadata": {
        "colab": {
          "base_uri": "https://localhost:8080/"
        },
        "id": "CKN4uBIXrC_S",
        "outputId": "e2029001-d0c9-4075-be4f-ab2b24e6926a"
      },
      "outputs": [
        {
          "name": "stdout",
          "output_type": "stream",
          "text": [
            "如果一個人在成人前沒有機會習得目標語言，他對該語言的認識達到母語者程度的機會是相當小的。\n"
          ]
        }
      ],
      "source": [
        "target_raw, context_raw = load_data(path_to_file)\n",
        "print(context_raw[-1])"
      ]
    },
    {
      "cell_type": "code",
      "execution_count": null,
      "metadata": {
        "colab": {
          "base_uri": "https://localhost:8080/"
        },
        "id": "KOth563srDB6",
        "outputId": "4ae96b75-ae4e-496c-d311-2151326c7718"
      },
      "outputs": [
        {
          "name": "stdout",
          "output_type": "stream",
          "text": [
            "If a person has not had a chance to acquire his target language by the time he's an adult, he's unlikely to be able to reach native speaker level in that language.\n"
          ]
        }
      ],
      "source": [
        "print(target_raw[-1])"
      ]
    },
    {
      "cell_type": "markdown",
      "metadata": {
        "id": "rhUccEacP8qK"
      },
      "source": [
        "## Chinese Word Segmentation\n",
        "> **Reference**: https://alvinntnu.github.io/NTNU_ENC2045_LECTURES/nlp/chinese-word-seg.html\n"
      ]
    },
    {
      "cell_type": "code",
      "execution_count": null,
      "metadata": {
        "colab": {
          "base_uri": "https://localhost:8080/"
        },
        "id": "L-NreVUDcioE",
        "outputId": "0cfa379c-4fa7-4c2e-bda0-bcf4aee34c95"
      },
      "outputs": [
        {
          "name": "stdout",
          "output_type": "stream",
          "text": [
            "/bin/bash: line 1: conda: command not found\n",
            "Requirement already satisfied: jieba in /usr/local/lib/python3.10/dist-packages (0.42.1)\n"
          ]
        }
      ],
      "source": [
        "! conda activate python-notes\n",
        "! pip install jieba"
      ]
    },
    {
      "cell_type": "code",
      "execution_count": null,
      "metadata": {
        "id": "XEPJCiKpPBVe"
      },
      "outputs": [],
      "source": [
        "import jieba\n",
        "\n",
        "def segmentation(text):\n",
        "  # Split the words\n",
        "  text = jieba.lcut(text)\n",
        "  # Change List to String\n",
        "  text = \" \".join(text)\n",
        "  return text"
      ]
    },
    {
      "cell_type": "code",
      "execution_count": null,
      "metadata": {
        "colab": {
          "base_uri": "https://localhost:8080/"
        },
        "id": "ngornO-gPAxo",
        "outputId": "cd31032d-9645-48a7-921d-5cdb80ea7442"
      },
      "outputs": [
        {
          "name": "stderr",
          "output_type": "stream",
          "text": [
            "Building prefix dict from the default dictionary ...\n",
            "DEBUG:jieba:Building prefix dict from the default dictionary ...\n",
            "Dumping model to file cache /tmp/jieba.cache\n",
            "DEBUG:jieba:Dumping model to file cache /tmp/jieba.cache\n",
            "Loading model cost 1.430 seconds.\n",
            "DEBUG:jieba:Loading model cost 1.430 seconds.\n",
            "Prefix dict has been built successfully.\n",
            "DEBUG:jieba:Prefix dict has been built successfully.\n"
          ]
        },
        {
          "name": "stdout",
          "output_type": "stream",
          "text": [
            "我 已经 起来 了\n"
          ]
        }
      ],
      "source": [
        "example_text = \"我已经起来了\"\n",
        "print(segmentation(example_text))"
      ]
    },
    {
      "cell_type": "code",
      "execution_count": null,
      "metadata": {
        "id": "MPGCXkiHPA2P"
      },
      "outputs": [],
      "source": [
        "context_raw = np.array([segmentation(words) for words in context_raw])"
      ]
    },
    {
      "cell_type": "code",
      "execution_count": null,
      "metadata": {
        "colab": {
          "base_uri": "https://localhost:8080/"
        },
        "id": "1H-am_q7p38b",
        "outputId": "dd352ffd-a2f4-456b-efd4-e21a05545a0a"
      },
      "outputs": [
        {
          "data": {
            "text/plain": [
              "array(['嗨 。', '你好 。', '你 用 跑 的 。', ...,\n",
              "       '你 很 容易 把 母语 说 得 通顺 流畅 ， 却 很 容易 把 非 母语 说 得 不 自然 。',\n",
              "       '虽然 我 被 公司 解雇 了 ， 但是 我 还 有点 存款 ， 所以 目前 不用 担心 生计 问题 。',\n",
              "       '如果 一個 人 在 成人 前 沒 有 機會習 得 目標 語言 ， 他 對 該 語言 的 認識 達 到 母語者 程度 的 機會 是 相當 小 的 。'],\n",
              "      dtype='<U73')"
            ]
          },
          "execution_count": 13,
          "metadata": {},
          "output_type": "execute_result"
        }
      ],
      "source": [
        "context_raw"
      ]
    },
    {
      "cell_type": "markdown",
      "metadata": {
        "id": "l34ElK_HOaMl"
      },
      "source": [
        "## **Create a tf.data dataset**"
      ]
    },
    {
      "cell_type": "code",
      "execution_count": null,
      "metadata": {
        "id": "QVI4CzWBOZ8i"
      },
      "outputs": [],
      "source": [
        "BUFFER_SIZE = len(context_raw)\n",
        "BATCH_SIZE = 64\n",
        "\n",
        "is_train = np.random.uniform(size=(len(target_raw),)) < 0.8\n",
        "\n",
        "train_raw = (\n",
        "    tf.data.Dataset\n",
        "    .from_tensor_slices((context_raw[is_train], target_raw[is_train]))\n",
        "    .shuffle(BUFFER_SIZE)\n",
        "    .batch(BATCH_SIZE))\n",
        "val_raw = (\n",
        "    tf.data.Dataset\n",
        "    .from_tensor_slices((context_raw[~is_train], target_raw[~is_train]))\n",
        "    .shuffle(BUFFER_SIZE)\n",
        "    .batch(BATCH_SIZE))"
      ]
    },
    {
      "cell_type": "code",
      "execution_count": null,
      "metadata": {
        "colab": {
          "base_uri": "https://localhost:8080/"
        },
        "id": "VN1ttjdJrDEa",
        "outputId": "21efe74d-4d6a-4ab3-a8c7-c52bd93eb9f1"
      },
      "outputs": [
        {
          "name": "stdout",
          "output_type": "stream",
          "text": [
            "tf.Tensor(\n",
            "[b'\\xe6\\x88\\x91 \\xe5\\xbe\\x97 \\xe4\\xba\\x86 \\xe9\\x87\\x8d\\xe6\\x84\\x9f\\xe5\\x86\\x92 \\xe3\\x80\\x82'\n",
            " b'\\xe6\\x88\\x91 \\xe6\\x89\\x80 \\xe7\\x9f\\xa5\\xe9\\x81\\x93 \\xe7\\x9a\\x84 \\xe6\\x98\\xaf \\xe4\\xbb\\x96 \\xe6\\x94\\xbe\\xe6\\xa3\\x84 \\xe4\\xba\\x86 \\xe9\\x80\\x99\\xe5\\x80\\x8b \\xe8\\xa8\\x88\\xe5\\x8a\\x83 \\xe3\\x80\\x82'\n",
            " b'\\xe4\\xbb\\x96 \\xe5\\x96\\x9c\\xe6\\xac\\xa2 \\xe6\\x97\\x85\\xe8\\xa1\\x8c \\xe3\\x80\\x82 \\xe6\\x88\\x91 \\xe4\\xb9\\x9f \\xe6\\x98\\xaf \\xe3\\x80\\x82'\n",
            " b'\\xe7\\x94\\xb1\\xe4\\xba\\x8e \\xe9\\x94\\x99\\xe8\\xbf\\x87 \\xe4\\xba\\x86 \\xe7\\x81\\xab\\xe8\\xbd\\xa6 \\xef\\xbc\\x8c \\xe6\\x88\\x91 \\xe4\\xb8\\x8d\\xe5\\xbe\\x97\\xe4\\xb8\\x8d \\xe7\\xad\\x89 \\xe4\\xb8\\x8b \\xe4\\xb8\\x80\\xe7\\x8f\\xad \\xe7\\xad\\x89 \\xe4\\xb8\\x80 \\xe5\\xb0\\x8f\\xe6\\x97\\xb6 \\xe3\\x80\\x82'\n",
            " b'\\xe6\\x80\\x8e\\xe4\\xb9\\x88 \\xe5\\x8f\\xaf\\xe8\\x83\\xbd \\xe5\\x9c\\xa8 \\xe6\\x88\\x91 \\xe4\\xb8\\x8d \\xe7\\x9f\\xa5\\xe9\\x81\\x93 \\xe7\\x9a\\x84 \\xe6\\x83\\x85\\xe5\\x86\\xb5 \\xe4\\xb8\\x8b \\xe5\\x81\\x9a \\xe5\\xae\\x8c \\xe5\\x91\\xa2 \\xef\\xbc\\x9f'], shape=(5,), dtype=string) \n",
            "\n",
            "tf.Tensor(\n",
            "[b\"I've caught a bad cold.\"\n",
            " b'All that I know is that he gave up the plan.'\n",
            " b'He likes to travel. I do, too.'\n",
            " b'As I missed the train, I had to wait for the next one for about an hour.'\n",
            " b'How could it be done without my knowing?'], shape=(5,), dtype=string)\n"
          ]
        }
      ],
      "source": [
        "for example_context_strings, example_target_strings in train_raw.take(1):\n",
        "  print(example_context_strings[:5],'\\n')\n",
        "  print(example_target_strings[:5])\n",
        "  break"
      ]
    },
    {
      "cell_type": "markdown",
      "metadata": {
        "id": "9iwyUeXAPBve"
      },
      "source": [
        "## **Text preprocessing**\n",
        "\n",
        "\n"
      ]
    },
    {
      "cell_type": "code",
      "execution_count": null,
      "metadata": {
        "id": "isY3hMHwSA-i"
      },
      "outputs": [],
      "source": [
        "# Chinese\n",
        "def cmn_text_preprocess(text):\n",
        "  text = tf_text.normalize_utf8(text, 'NFKD')\n",
        "  text = tf.strings.join(['[START]', text, '[END]'], separator=' ')\n",
        "  return text"
      ]
    },
    {
      "cell_type": "code",
      "execution_count": null,
      "metadata": {
        "id": "XzJPTazFrDJJ"
      },
      "outputs": [],
      "source": [
        "# English\n",
        "def eng_text_preprocess(text):\n",
        "  # Split accented characters.\n",
        "  text = tf_text.normalize_utf8(text, 'NFKD')\n",
        "  text = tf.strings.lower(text)\n",
        "  # Keep space, a to z, and select punctuation.\n",
        "  text = tf.strings.regex_replace(text, '[^ a-z.?!,¿]', '')\n",
        "  # Add spaces around punctuation.\n",
        "  text = tf.strings.regex_replace(text, '[.?!,¿]', r' \\0 ')\n",
        "  # Strip whitespace.\n",
        "  text = tf.strings.strip(text)\n",
        "\n",
        "  text = tf.strings.join(['[START]', text, '[END]'], separator=' ')\n",
        "  return text"
      ]
    },
    {
      "cell_type": "code",
      "execution_count": null,
      "metadata": {
        "id": "-cNeu4fIPA0C"
      },
      "outputs": [],
      "source": [
        "# Text Vectorization for Chinese\n",
        "max_vocab_size = 5000\n",
        "\n",
        "context_text_processor = tf.keras.layers.TextVectorization(\n",
        "    standardize=cmn_text_preprocess,\n",
        "    max_tokens=max_vocab_size,\n",
        "    ragged=True)"
      ]
    },
    {
      "cell_type": "code",
      "execution_count": null,
      "metadata": {
        "colab": {
          "base_uri": "https://localhost:8080/"
        },
        "id": "j5AWg8jTPA7B",
        "outputId": "028e7e54-55e5-4274-b2cb-96edc17ef6b2"
      },
      "outputs": [
        {
          "data": {
            "text/plain": [
              "['', '[UNK]', '[START]', '[END]', '。', '我', '的', '了', '你', '?']"
            ]
          },
          "execution_count": 19,
          "metadata": {},
          "output_type": "execute_result"
        }
      ],
      "source": [
        "context_text_processor.adapt(train_raw.map(lambda context, target: context))\n",
        "\n",
        "# Here are the first 10 words from the vocabulary:\n",
        "context_text_processor.get_vocabulary()[:10]"
      ]
    },
    {
      "cell_type": "code",
      "execution_count": null,
      "metadata": {
        "colab": {
          "base_uri": "https://localhost:8080/"
        },
        "id": "YzyyAKe8PA9O",
        "outputId": "6429a4b1-e7d7-4b6e-fa4e-c39d7abb21fb"
      },
      "outputs": [
        {
          "data": {
            "text/plain": [
              "['', '[UNK]', '[START]', '[END]', '.', 'the', 'i', 'to', 'you', 'a']"
            ]
          },
          "execution_count": 20,
          "metadata": {},
          "output_type": "execute_result"
        }
      ],
      "source": [
        "target_text_processor = tf.keras.layers.TextVectorization(\n",
        "    standardize=eng_text_preprocess,\n",
        "    max_tokens=max_vocab_size,\n",
        "    ragged=True)\n",
        "\n",
        "target_text_processor.adapt(train_raw.map(lambda context, target: target))\n",
        "target_text_processor.get_vocabulary()[:10]"
      ]
    },
    {
      "cell_type": "code",
      "execution_count": null,
      "metadata": {
        "colab": {
          "base_uri": "https://localhost:8080/"
        },
        "id": "3cvInhFOPA_d",
        "outputId": "0c338724-ad05-4b5b-e177-3d6aa5cd3f31"
      },
      "outputs": [
        {
          "data": {
            "text/plain": [
              "<tf.RaggedTensor [[2, 5, 63, 7, 2777, 4, 3],\n",
              " [2, 5, 295, 26, 6, 12, 10, 1688, 7, 51, 524, 4, 3],\n",
              " [2, 10, 50, 294, 4, 5, 78, 12, 4, 3]]>"
            ]
          },
          "execution_count": 21,
          "metadata": {},
          "output_type": "execute_result"
        }
      ],
      "source": [
        "example_tokens = context_text_processor(example_context_strings)\n",
        "example_tokens[:3, :]"
      ]
    },
    {
      "cell_type": "code",
      "execution_count": null,
      "metadata": {
        "colab": {
          "base_uri": "https://localhost:8080/",
          "height": 35
        },
        "id": "qOX0CdoprDLS",
        "outputId": "5d7cf75e-d310-4f5a-f595-67620efbfd8b"
      },
      "outputs": [
        {
          "data": {
            "application/vnd.google.colaboratory.intrinsic+json": {
              "type": "string"
            },
            "text/plain": [
              "'[START] 我 得 了 重感冒 。 [END]'"
            ]
          },
          "execution_count": 22,
          "metadata": {},
          "output_type": "execute_result"
        }
      ],
      "source": [
        "context_vocab = np.array(context_text_processor.get_vocabulary())\n",
        "tokens = context_vocab[example_tokens[0].numpy()]\n",
        "' '.join(tokens)"
      ]
    },
    {
      "cell_type": "code",
      "execution_count": null,
      "metadata": {
        "colab": {
          "base_uri": "https://localhost:8080/",
          "height": 469
        },
        "id": "cUq4id4-TfZT",
        "outputId": "24e553d5-0ae9-4d31-909d-de006d8192de"
      },
      "outputs": [
        {
          "data": {
            "text/plain": [
              "Text(0.5, 1.0, 'Mask')"
            ]
          },
          "execution_count": 23,
          "metadata": {},
          "output_type": "execute_result"
        },
        {
          "data": {
            "image/png": "[encoded data removed]",
            "text/plain": [
              "<Figure size 640x480 with 2 Axes>"
            ]
          },
          "metadata": {},
          "output_type": "display_data"
        }
      ],
      "source": [
        "plt.subplot(1, 2, 1)\n",
        "plt.pcolormesh(example_tokens.to_tensor())\n",
        "plt.title('Token IDs')\n",
        "\n",
        "plt.subplot(1, 2, 2)\n",
        "plt.pcolormesh(example_tokens.to_tensor() != 0)\n",
        "plt.title('Mask')"
      ]
    },
    {
      "cell_type": "markdown",
      "metadata": {
        "id": "RV93g2Y4T5vP"
      },
      "source": [
        "## Process the dataset"
      ]
    },
    {
      "cell_type": "code",
      "execution_count": null,
      "metadata": {
        "id": "HMDHVK3YThXb"
      },
      "outputs": [],
      "source": [
        "def process_text(context, target):\n",
        "  context = context_text_processor(context).to_tensor()\n",
        "  target = target_text_processor(target)\n",
        "  targ_in = target[:,:-1].to_tensor()\n",
        "  targ_out = target[:,1:].to_tensor()\n",
        "  return (context, targ_in), targ_out\n",
        "\n",
        "\n",
        "train_ds = train_raw.map(process_text, tf.data.AUTOTUNE)\n",
        "val_ds = val_raw.map(process_text, tf.data.AUTOTUNE)"
      ]
    },
    {
      "cell_type": "code",
      "execution_count": null,
      "metadata": {
        "colab": {
          "base_uri": "https://localhost:8080/"
        },
        "id": "7ItwSDgdT_3Q",
        "outputId": "99e5be92-4e93-495c-8e71-5b1be9dff745"
      },
      "outputs": [
        {
          "name": "stdout",
          "output_type": "stream",
          "text": [
            "[   2 1601    1  133   72 1458 1195    7   18 1978]\n",
            "\n",
            "[   2    5  863   71    9  868 3733   30    5 1836]\n",
            "[   5  863   71    9  868 3733   30    5 1836    4]\n"
          ]
        }
      ],
      "source": [
        "for (ex_context_tok, ex_tar_in), ex_tar_out in train_ds.take(1):\n",
        "  print(ex_context_tok[0, :10].numpy())\n",
        "  print()\n",
        "  print(ex_tar_in[0, :10].numpy())\n",
        "  print(ex_tar_out[0, :10].numpy())"
      ]
    },
    {
      "cell_type": "markdown",
      "metadata": {
        "id": "JOkwk66qUUqs"
      },
      "source": [
        "## The encoder"
      ]
    },
    {
      "cell_type": "code",
      "execution_count": null,
      "metadata": {
        "id": "_8UvIlhmT_1A"
      },
      "outputs": [],
      "source": [
        "UNITS = 256\n",
        "# UNITS = 512"
      ]
    },
    {
      "cell_type": "code",
      "execution_count": null,
      "metadata": {
        "id": "mDbnUZEnT_yf"
      },
      "outputs": [],
      "source": [
        "class Encoder(tf.keras.layers.Layer):\n",
        "  def __init__(self, text_processor, units):\n",
        "    super(Encoder, self).__init__()\n",
        "    self.text_processor = text_processor\n",
        "    self.vocab_size = text_processor.vocabulary_size()\n",
        "    self.units = units\n",
        "\n",
        "    # The embedding layer converts tokens to vectors\n",
        "    self.embedding = tf.keras.layers.Embedding(self.vocab_size, units, mask_zero=True)\n",
        "\n",
        "    # The RNN layer processes those vectors sequentially.\n",
        "    self.rnn = tf.keras.layers.Bidirectional(\n",
        "        merge_mode='sum',\n",
        "        layer=tf.keras.layers.GRU(units,\n",
        "                    # Return the sequence and state\n",
        "                     return_sequences=True,\n",
        "                     recurrent_initializer='glorot_uniform'))\n",
        "\n",
        "  def call(self, x):\n",
        "    shape_checker = ShapeChecker()\n",
        "    shape_checker(x, 'batch s')\n",
        "\n",
        "    # 2. The embedding layer looks up the embedding vector for each token.\n",
        "    x = self.embedding(x)\n",
        "    shape_checker(x, 'batch s units')\n",
        "\n",
        "    # 3. The GRU processes the sequence of embeddings.\n",
        "    x = self.rnn(x)\n",
        "    shape_checker(x, 'batch s units')\n",
        "\n",
        "    # 4. Returns the new sequence of embeddings.\n",
        "    return x\n",
        "\n",
        "  def convert_input(self, texts):\n",
        "    texts = tf.convert_to_tensor(texts)\n",
        "    if len(texts.shape) == 0:\n",
        "      texts = tf.convert_to_tensor(texts)[tf.newaxis]\n",
        "    context = self.text_processor(texts).to_tensor()\n",
        "    context = self(context)\n",
        "    return context"
      ]
    },
    {
      "cell_type": "code",
      "execution_count": null,
      "metadata": {
        "colab": {
          "base_uri": "https://localhost:8080/"
        },
        "id": "d9ydpiIVT_uI",
        "outputId": "e760227f-64ad-4aa5-de74-20dbfe334511"
      },
      "outputs": [
        {
          "name": "stdout",
          "output_type": "stream",
          "text": [
            "Context tokens, shape (batch, s): (64, 14)\n",
            "Encoder output, shape (batch, s, units): (64, 14, 256)\n"
          ]
        }
      ],
      "source": [
        "# Encode the input sequence.\n",
        "encoder = Encoder(context_text_processor, UNITS)\n",
        "ex_context = encoder(ex_context_tok)\n",
        "\n",
        "print(f'Context tokens, shape (batch, s): {ex_context_tok.shape}')\n",
        "print(f'Encoder output, shape (batch, s, units): {ex_context.shape}')"
      ]
    },
    {
      "cell_type": "markdown",
      "metadata": {
        "id": "WoSbniiHUtqU"
      },
      "source": [
        "## The attention layer"
      ]
    },
    {
      "cell_type": "code",
      "execution_count": null,
      "metadata": {
        "id": "zR2aGK6hT_rg"
      },
      "outputs": [],
      "source": [
        "class CrossAttention(tf.keras.layers.Layer):\n",
        "  def __init__(self, units, **kwargs):\n",
        "    super().__init__()\n",
        "    self.mha = tf.keras.layers.MultiHeadAttention(key_dim=units, num_heads=1, **kwargs)\n",
        "    self.layernorm = tf.keras.layers.LayerNormalization()\n",
        "    self.add = tf.keras.layers.Add()\n",
        "\n",
        "  def call(self, x, context):\n",
        "    shape_checker = ShapeChecker()\n",
        "\n",
        "    shape_checker(x, 'batch t units')\n",
        "    shape_checker(context, 'batch s units')\n",
        "\n",
        "    attn_output, attn_scores = self.mha(\n",
        "        query=x,\n",
        "        value=context,\n",
        "        return_attention_scores=True)\n",
        "\n",
        "    shape_checker(x, 'batch t units')\n",
        "    shape_checker(attn_scores, 'batch heads t s')\n",
        "\n",
        "    # Cache the attention scores for plotting later.\n",
        "    attn_scores = tf.reduce_mean(attn_scores, axis=1)\n",
        "    shape_checker(attn_scores, 'batch t s')\n",
        "    self.last_attention_weights = attn_scores\n",
        "\n",
        "    x = self.add([x, attn_output])\n",
        "    x = self.layernorm(x)\n",
        "\n",
        "    return x"
      ]
    },
    {
      "cell_type": "code",
      "execution_count": null,
      "metadata": {
        "colab": {
          "base_uri": "https://localhost:8080/"
        },
        "id": "sKnUJshyT_pR",
        "outputId": "407921d7-989b-44a8-c7be-f178a645ddb5"
      },
      "outputs": [
        {
          "name": "stdout",
          "output_type": "stream",
          "text": [
            "Context sequence, shape (batch, s, units): (64, 14, 256)\n",
            "Target sequence, shape (batch, t, units): (64, 15, 256)\n",
            "Attention result, shape (batch, t, units): (64, 15, 256)\n",
            "Attention weights, shape (batch, t, s):    (64, 15, 14)\n"
          ]
        }
      ],
      "source": [
        "attention_layer = CrossAttention(UNITS)\n",
        "\n",
        "# Attend to the encoded tokens\n",
        "embed = tf.keras.layers.Embedding(target_text_processor.vocabulary_size(),\n",
        "                                  output_dim=UNITS, mask_zero=True)\n",
        "ex_tar_embed = embed(ex_tar_in)\n",
        "\n",
        "result = attention_layer(ex_tar_embed, ex_context)\n",
        "\n",
        "print(f'Context sequence, shape (batch, s, units): {ex_context.shape}')\n",
        "print(f'Target sequence, shape (batch, t, units): {ex_tar_embed.shape}')\n",
        "print(f'Attention result, shape (batch, t, units): {result.shape}')\n",
        "print(f'Attention weights, shape (batch, t, s):    {attention_layer.last_attention_weights.shape}')"
      ]
    },
    {
      "cell_type": "code",
      "execution_count": null,
      "metadata": {
        "colab": {
          "base_uri": "https://localhost:8080/"
        },
        "id": "gC_gmHRtUzLO",
        "outputId": "6bcc4c44-53e5-4d27-8784-99e014bbe1d6"
      },
      "outputs": [
        {
          "data": {
            "text/plain": [
              "array([1.        , 1.0000001 , 1.0000001 , 1.        , 1.        ,\n",
              "       1.        , 1.0000001 , 0.99999994, 1.0000001 , 1.        ,\n",
              "       1.        , 1.0000001 , 1.0000001 , 1.0000001 , 1.0000001 ],\n",
              "      dtype=float32)"
            ]
          },
          "execution_count": 90,
          "metadata": {},
          "output_type": "execute_result"
        }
      ],
      "source": [
        "attention_layer.last_attention_weights[0].numpy().sum(axis=-1)"
      ]
    },
    {
      "cell_type": "code",
      "execution_count": null,
      "metadata": {
        "colab": {
          "base_uri": "https://localhost:8080/",
          "height": 452
        },
        "id": "WesIxfTgUzJV",
        "outputId": "4afc27e5-de97-4ca6-e897-244eeba5fb25"
      },
      "outputs": [
        {
          "data": {
            "image/png": "[encoded data removed]",
            "text/plain": [
              "<Figure size 640x480 with 2 Axes>"
            ]
          },
          "metadata": {},
          "output_type": "display_data"
        }
      ],
      "source": [
        "attention_weights = attention_layer.last_attention_weights\n",
        "mask=(ex_context_tok != 0).numpy()\n",
        "\n",
        "plt.subplot(1, 2, 1)\n",
        "plt.pcolormesh(mask*attention_weights[:, 0, :])\n",
        "plt.title('Attention weights')\n",
        "\n",
        "plt.subplot(1, 2, 2)\n",
        "plt.pcolormesh(mask)\n",
        "plt.title('Mask');"
      ]
    },
    {
      "cell_type": "markdown",
      "metadata": {
        "id": "pQ7kRM6oVDnY"
      },
      "source": [
        "## The decoder"
      ]
    },
    {
      "cell_type": "code",
      "execution_count": null,
      "metadata": {
        "id": "I_rwKXZSUzHH"
      },
      "outputs": [],
      "source": [
        "class Decoder(tf.keras.layers.Layer):\n",
        "  @classmethod\n",
        "  def add_method(cls, fun):\n",
        "    setattr(cls, fun.__name__, fun)\n",
        "    return fun\n",
        "\n",
        "  def __init__(self, text_processor, units):\n",
        "    super(Decoder, self).__init__()\n",
        "    self.text_processor = text_processor\n",
        "    self.vocab_size = text_processor.vocabulary_size()\n",
        "    self.word_to_id = tf.keras.layers.StringLookup(\n",
        "        vocabulary=text_processor.get_vocabulary(),\n",
        "        mask_token='', oov_token='[UNK]')\n",
        "    self.id_to_word = tf.keras.layers.StringLookup(\n",
        "        vocabulary=text_processor.get_vocabulary(),\n",
        "        mask_token='', oov_token='[UNK]',\n",
        "        invert=True)\n",
        "    self.start_token = self.word_to_id('[START]')\n",
        "    self.end_token = self.word_to_id('[END]')\n",
        "\n",
        "    self.units = units\n",
        "\n",
        "\n",
        "    # 1. The embedding layer converts token IDs to vectors\n",
        "    self.embedding = tf.keras.layers.Embedding(self.vocab_size,units, mask_zero=True)\n",
        "\n",
        "    # 2. The RNN keeps track of what's been generated so far.\n",
        "    self.rnn = tf.keras.layers.GRU(units,\n",
        "                     return_sequences=True,\n",
        "                     return_state=True,\n",
        "                     recurrent_initializer='glorot_uniform')\n",
        "\n",
        "    # 3. The RNN output will be the query for the attention layer.\n",
        "    self.attention = CrossAttention(units)\n",
        "\n",
        "    # 4. This fully connected layer produces the logits for each\n",
        "    # output token.\n",
        "    self.output_layer = tf.keras.layers.Dense(self.vocab_size)"
      ]
    },
    {
      "cell_type": "code",
      "execution_count": null,
      "metadata": {
        "id": "V-AMw8_MUzEt"
      },
      "outputs": [],
      "source": [
        "@Decoder.add_method\n",
        "def call(self,\n",
        "         context, x,\n",
        "         state=None,\n",
        "         return_state=False):\n",
        "  shape_checker = ShapeChecker()\n",
        "  shape_checker(x, 'batch t')\n",
        "  shape_checker(context, 'batch s units')\n",
        "\n",
        "  # 1. Lookup the embeddings\n",
        "  x = self.embedding(x)\n",
        "  shape_checker(x, 'batch t units')\n",
        "\n",
        "  # 2. Process the target sequence.\n",
        "  x, state = self.rnn(x, initial_state=state)\n",
        "  shape_checker(x, 'batch t units')\n",
        "\n",
        "  # 3. Use the RNN output as the query for the attention over the context.\n",
        "  x = self.attention(x, context)\n",
        "  self.last_attention_weights = self.attention.last_attention_weights\n",
        "  shape_checker(x, 'batch t units')\n",
        "  shape_checker(self.last_attention_weights, 'batch t s')\n",
        "\n",
        "  # Step 4. Generate logit predictions for the next token.\n",
        "  logits = self.output_layer(x)\n",
        "  shape_checker(logits, 'batch t target_vocab_size')\n",
        "\n",
        "  if return_state:\n",
        "    return logits, state\n",
        "  else:\n",
        "    return logits"
      ]
    },
    {
      "cell_type": "code",
      "execution_count": null,
      "metadata": {
        "id": "sWEvQr91UzCl"
      },
      "outputs": [],
      "source": [
        "decoder = Decoder(target_text_processor, UNITS)"
      ]
    },
    {
      "cell_type": "code",
      "execution_count": null,
      "metadata": {
        "colab": {
          "base_uri": "https://localhost:8080/"
        },
        "id": "kgHODOHIUzAX",
        "outputId": "bc24b3a1-812f-4f3b-9305-5194d3cc40ef"
      },
      "outputs": [
        {
          "name": "stdout",
          "output_type": "stream",
          "text": [
            "encoder output shape: (batch, s, units) (64, 14, 256)\n",
            "input target tokens shape: (batch, t) (64, 15)\n",
            "logits shape shape: (batch, target_vocabulary_size) (64, 15, 5000)\n"
          ]
        }
      ],
      "source": [
        "logits = decoder(ex_context, ex_tar_in)\n",
        "\n",
        "print(f'encoder output shape: (batch, s, units) {ex_context.shape}')\n",
        "print(f'input target tokens shape: (batch, t) {ex_tar_in.shape}')\n",
        "print(f'logits shape shape: (batch, target_vocabulary_size) {logits.shape}')"
      ]
    },
    {
      "cell_type": "code",
      "execution_count": null,
      "metadata": {
        "id": "RiIbZ62sUy-F"
      },
      "outputs": [],
      "source": [
        "@Decoder.add_method\n",
        "def get_initial_state(self, context):\n",
        "  batch_size = tf.shape(context)[0]\n",
        "  start_tokens = tf.fill([batch_size, 1], self.start_token)\n",
        "  done = tf.zeros([batch_size, 1], dtype=tf.bool)\n",
        "  embedded = self.embedding(start_tokens)\n",
        "  return start_tokens, done, self.rnn.get_initial_state(embedded)[0]"
      ]
    },
    {
      "cell_type": "code",
      "execution_count": null,
      "metadata": {
        "id": "tQvxdcqzT_kc"
      },
      "outputs": [],
      "source": [
        "@Decoder.add_method\n",
        "def tokens_to_text(self, tokens):\n",
        "  words = self.id_to_word(tokens)\n",
        "  result = tf.strings.reduce_join(words, axis=-1, separator=' ')\n",
        "  result = tf.strings.regex_replace(result, '^ *\\[START\\] *', '')\n",
        "  result = tf.strings.regex_replace(result, ' *\\[END\\] *$', '')\n",
        "  return result"
      ]
    },
    {
      "cell_type": "code",
      "execution_count": null,
      "metadata": {
        "id": "2lC5IwWoT_iI"
      },
      "outputs": [],
      "source": [
        "@Decoder.add_method\n",
        "def get_next_token(self, context, next_token, done, state, temperature = 0.0):\n",
        "  logits, state = self(\n",
        "    context, next_token,\n",
        "    state = state,\n",
        "    return_state=True)\n",
        "\n",
        "  if temperature == 0.0:\n",
        "    next_token = tf.argmax(logits, axis=-1)\n",
        "  else:\n",
        "    logits = logits[:, -1, :]/temperature\n",
        "    next_token = tf.random.categorical(logits, num_samples=1)\n",
        "\n",
        "  # If a sequence produces an `end_token`, set it `done`\n",
        "  done = done | (next_token == self.end_token)\n",
        "  # Once a sequence is done it only produces 0-padding.\n",
        "  next_token = tf.where(done, tf.constant(0, dtype=tf.int64), next_token)\n",
        "\n",
        "  return next_token, done, state"
      ]
    },
    {
      "cell_type": "code",
      "execution_count": null,
      "metadata": {
        "colab": {
          "base_uri": "https://localhost:8080/"
        },
        "id": "7S_Rr7Q1VgKx",
        "outputId": "5aa29694-9489-42a0-ccb4-d28d1e866891"
      },
      "outputs": [
        {
          "data": {
            "text/plain": [
              "array([b'operation sue rested pastor silly luggage imaginative raised mistaken same',\n",
              "       b'might alphabet bark common are resigned pretext yellow sushi smartphone',\n",
              "       b'passengers performance child painful station thou current theme child carved'],\n",
              "      dtype=object)"
            ]
          },
          "execution_count": 125,
          "metadata": {},
          "output_type": "execute_result"
        }
      ],
      "source": [
        "# Setup the loop variables.\n",
        "next_token, done, state = decoder.get_initial_state(ex_context)\n",
        "tokens = []\n",
        "\n",
        "for n in range(10):\n",
        "  # Run one step.\n",
        "  next_token, done, state = decoder.get_next_token(\n",
        "      ex_context, next_token, done, state, temperature=1.0)\n",
        "  # Add the token to the output.\n",
        "  tokens.append(next_token)\n",
        "\n",
        "# Stack all the tokens together.\n",
        "tokens = tf.concat(tokens, axis=-1) # (batch, t)\n",
        "\n",
        "# Convert the tokens back to a a string\n",
        "result = decoder.tokens_to_text(tokens)\n",
        "result[:3].numpy()"
      ]
    },
    {
      "cell_type": "markdown",
      "metadata": {
        "id": "nVgSSmPJVp7k"
      },
      "source": [
        "## The Model"
      ]
    },
    {
      "cell_type": "code",
      "execution_count": null,
      "metadata": {
        "id": "7ED9fMhVVpwq"
      },
      "outputs": [],
      "source": [
        "class Translator(tf.keras.Model):\n",
        "  @classmethod\n",
        "  def add_method(cls, fun):\n",
        "    setattr(cls, fun.__name__, fun)\n",
        "    return fun\n",
        "\n",
        "  def __init__(self, units,\n",
        "               context_text_processor,\n",
        "               target_text_processor):\n",
        "    super().__init__()\n",
        "    # Build the encoder and decoder\n",
        "    encoder = Encoder(context_text_processor, units)\n",
        "    decoder = Decoder(target_text_processor, units)\n",
        "\n",
        "    self.encoder = encoder\n",
        "    self.decoder = decoder\n",
        "\n",
        "  def call(self, inputs):\n",
        "    context, x = inputs\n",
        "    context = self.encoder(context)\n",
        "    logits = self.decoder(context, x)\n",
        "\n",
        "    #TODO(b/250038731): remove this\n",
        "    try:\n",
        "      # Delete the keras mask, so keras doesn't scale the loss+accuracy.\n",
        "      del logits._keras_mask\n",
        "    except AttributeError:\n",
        "      pass\n",
        "\n",
        "    return logits"
      ]
    },
    {
      "cell_type": "code",
      "execution_count": null,
      "metadata": {
        "colab": {
          "base_uri": "https://localhost:8080/"
        },
        "id": "uFeh7FWDVgIj",
        "outputId": "5bbbb917-f472-4c14-e4c0-9d3c8be6fffb"
      },
      "outputs": [
        {
          "name": "stdout",
          "output_type": "stream",
          "text": [
            "Context tokens, shape: (batch, s, units) (64, 14)\n",
            "Target tokens, shape: (batch, t) (64, 15)\n",
            "logits, shape: (batch, t, target_vocabulary_size) (64, 15, 5000)\n"
          ]
        }
      ],
      "source": [
        "model = Translator(UNITS, context_text_processor, target_text_processor)\n",
        "\n",
        "logits = model((ex_context_tok, ex_tar_in))\n",
        "\n",
        "print(f'Context tokens, shape: (batch, s, units) {ex_context_tok.shape}')\n",
        "print(f'Target tokens, shape: (batch, t) {ex_tar_in.shape}')\n",
        "print(f'logits, shape: (batch, t, target_vocabulary_size) {logits.shape}')"
      ]
    },
    {
      "cell_type": "markdown",
      "metadata": {
        "id": "BUIWIG6iV2Zk"
      },
      "source": [
        "## Training"
      ]
    },
    {
      "cell_type": "code",
      "execution_count": null,
      "metadata": {
        "id": "HnTgrSOLV2O8"
      },
      "outputs": [],
      "source": [
        "def masked_loss(y_true, y_pred):\n",
        "    # Calculate the loss for each item in the batch.\n",
        "    loss_fn = tf.keras.losses.SparseCategoricalCrossentropy(\n",
        "        from_logits=True, reduction='none')\n",
        "    loss = loss_fn(y_true, y_pred)\n",
        "\n",
        "    # Mask off the losses on padding.\n",
        "    mask = tf.cast(y_true != 0, loss.dtype)\n",
        "    loss *= mask\n",
        "\n",
        "    # Return the total.\n",
        "    return tf.reduce_sum(loss)/tf.reduce_sum(mask)"
      ]
    },
    {
      "cell_type": "code",
      "execution_count": null,
      "metadata": {
        "id": "wklXyMB_VgGK"
      },
      "outputs": [],
      "source": [
        "def masked_acc(y_true, y_pred):\n",
        "    # Calculate the loss for each item in the batch.\n",
        "    y_pred = tf.argmax(y_pred, axis=-1)\n",
        "    y_pred = tf.cast(y_pred, y_true.dtype)\n",
        "\n",
        "    match = tf.cast(y_true == y_pred, tf.float32)\n",
        "    mask = tf.cast(y_true != 0, tf.float32)\n",
        "\n",
        "    return tf.reduce_sum(match)/tf.reduce_sum(mask)"
      ]
    },
    {
      "cell_type": "code",
      "execution_count": null,
      "metadata": {
        "id": "moT0vx8bVgDz"
      },
      "outputs": [],
      "source": [
        "model.compile(optimizer='adam',\n",
        "       loss=masked_loss,\n",
        "       metrics=[masked_acc, masked_loss])"
      ]
    },
    {
      "cell_type": "code",
      "execution_count": null,
      "metadata": {
        "colab": {
          "base_uri": "https://localhost:8080/"
        },
        "id": "6x89H_sgVgBt",
        "outputId": "36b0ced4-8828-46da-f3bc-fced7ebdbb09"
      },
      "outputs": [
        {
          "data": {
            "text/plain": [
              "{'expected_loss': 8.517193, 'expected_acc': 0.0002}"
            ]
          },
          "execution_count": 131,
          "metadata": {},
          "output_type": "execute_result"
        }
      ],
      "source": [
        "vocab_size = 1.0 * target_text_processor.vocabulary_size()\n",
        "\n",
        "{\"expected_loss\": tf.math.log(vocab_size).numpy(),\n",
        " \"expected_acc\": 1/vocab_size}"
      ]
    },
    {
      "cell_type": "code",
      "execution_count": null,
      "metadata": {
        "colab": {
          "base_uri": "https://localhost:8080/"
        },
        "id": "XeMXSsd9Vf_a",
        "outputId": "9d29f96a-8976-4fa2-e977-a18549235a2d"
      },
      "outputs": [
        {
          "name": "stdout",
          "output_type": "stream",
          "text": [
            "20/20 [==============================] - 9s 37ms/step - loss: 8.5268 - masked_acc: 1.0040e-04 - masked_loss: 8.5268\n"
          ]
        },
        {
          "data": {
            "text/plain": [
              "{'loss': 8.526769638061523,\n",
              " 'masked_acc': 0.00010040160123025998,\n",
              " 'masked_loss': 8.526769638061523}"
            ]
          },
          "execution_count": 132,
          "metadata": {},
          "output_type": "execute_result"
        }
      ],
      "source": [
        "model.evaluate(val_ds, steps=20, return_dict=True)"
      ]
    },
    {
      "cell_type": "code",
      "execution_count": null,
      "metadata": {
        "colab": {
          "base_uri": "https://localhost:8080/"
        },
        "id": "W1kdTbinVf9C",
        "outputId": "8ae5f93f-3d2e-485c-f524-038c7b90ec7f"
      },
      "outputs": [
        {
          "name": "stdout",
          "output_type": "stream",
          "text": [
            "Epoch 1/100\n",
            "100/100 [==============================] - 29s 123ms/step - loss: 5.0940 - masked_acc: 0.2514 - masked_loss: 5.0940 - val_loss: 4.1533 - val_masked_acc: 0.3480 - val_masked_loss: 4.1533\n",
            "Epoch 2/100\n",
            "100/100 [==============================] - 5s 53ms/step - loss: 3.8379 - masked_acc: 0.3884 - masked_loss: 3.8379 - val_loss: 3.4814 - val_masked_acc: 0.4208 - val_masked_loss: 3.4814\n",
            "Epoch 3/100\n",
            "100/100 [==============================] - 4s 42ms/step - loss: 3.3800 - masked_acc: 0.4350 - masked_loss: 3.3800 - val_loss: 3.1282 - val_masked_acc: 0.4608 - val_masked_loss: 3.1282\n",
            "Epoch 4/100\n",
            "100/100 [==============================] - 6s 60ms/step - loss: 2.9955 - masked_acc: 0.4790 - masked_loss: 2.9954 - val_loss: 2.8802 - val_masked_acc: 0.4895 - val_masked_loss: 2.8802\n",
            "Epoch 5/100\n",
            "100/100 [==============================] - 4s 39ms/step - loss: 2.5717 - masked_acc: 0.5268 - masked_loss: 2.5717 - val_loss: 2.6488 - val_masked_acc: 0.5221 - val_masked_loss: 2.6488\n",
            "Epoch 6/100\n",
            "100/100 [==============================] - 3s 35ms/step - loss: 2.4405 - masked_acc: 0.5475 - masked_loss: 2.4405 - val_loss: 2.4669 - val_masked_acc: 0.5435 - val_masked_loss: 2.4669\n",
            "Epoch 7/100\n",
            "100/100 [==============================] - 5s 46ms/step - loss: 2.3031 - masked_acc: 0.5684 - masked_loss: 2.3031 - val_loss: 2.3974 - val_masked_acc: 0.5499 - val_masked_loss: 2.3974\n",
            "Epoch 8/100\n",
            "100/100 [==============================] - 5s 54ms/step - loss: 1.9363 - masked_acc: 0.6138 - masked_loss: 1.9396 - val_loss: 2.2963 - val_masked_acc: 0.5731 - val_masked_loss: 2.2963\n",
            "Epoch 9/100\n",
            "100/100 [==============================] - 4s 35ms/step - loss: 1.7409 - masked_acc: 0.6362 - masked_loss: 1.7409 - val_loss: 2.2308 - val_masked_acc: 0.5810 - val_masked_loss: 2.2308\n",
            "Epoch 10/100\n",
            "100/100 [==============================] - 4s 38ms/step - loss: 1.7359 - masked_acc: 0.6402 - masked_loss: 1.7359 - val_loss: 2.1302 - val_masked_acc: 0.5984 - val_masked_loss: 2.1302\n",
            "Epoch 11/100\n",
            "100/100 [==============================] - 5s 55ms/step - loss: 1.7290 - masked_acc: 0.6414 - masked_loss: 1.7290 - val_loss: 2.0986 - val_masked_acc: 0.6026 - val_masked_loss: 2.0986\n",
            "Epoch 12/100\n",
            "100/100 [==============================] - 4s 39ms/step - loss: 1.3071 - masked_acc: 0.7053 - masked_loss: 1.3122 - val_loss: 2.0830 - val_masked_acc: 0.6024 - val_masked_loss: 2.0830\n",
            "Epoch 13/100\n",
            "100/100 [==============================] - 4s 38ms/step - loss: 1.2735 - masked_acc: 0.7073 - masked_loss: 1.2735 - val_loss: 2.1093 - val_masked_acc: 0.6024 - val_masked_loss: 2.1093\n",
            "Epoch 14/100\n",
            "100/100 [==============================] - 5s 46ms/step - loss: 1.3360 - masked_acc: 0.6966 - masked_loss: 1.3360 - val_loss: 2.1028 - val_masked_acc: 0.6053 - val_masked_loss: 2.1028\n",
            "Epoch 15/100\n",
            "100/100 [==============================] - 5s 50ms/step - loss: 1.2775 - masked_acc: 0.7060 - masked_loss: 1.2775 - val_loss: 2.0722 - val_masked_acc: 0.6130 - val_masked_loss: 2.0722\n",
            "Epoch 16/100\n",
            "100/100 [==============================] - 3s 35ms/step - loss: 0.9447 - masked_acc: 0.7700 - masked_loss: 0.9447 - val_loss: 2.0797 - val_masked_acc: 0.6200 - val_masked_loss: 2.0797\n",
            "Epoch 17/100\n",
            "100/100 [==============================] - 4s 35ms/step - loss: 1.0093 - masked_acc: 0.7537 - masked_loss: 1.0093 - val_loss: 2.0842 - val_masked_acc: 0.6217 - val_masked_loss: 2.0842\n",
            "Epoch 18/100\n",
            "100/100 [==============================] - 5s 53ms/step - loss: 1.0609 - masked_acc: 0.7439 - masked_loss: 1.0609 - val_loss: 2.1345 - val_masked_acc: 0.6024 - val_masked_loss: 2.1345\n",
            "Epoch 19/100\n",
            "100/100 [==============================] - 4s 42ms/step - loss: 0.9260 - masked_acc: 0.7701 - masked_loss: 0.9279 - val_loss: 2.0665 - val_masked_acc: 0.6245 - val_masked_loss: 2.0665\n",
            "Epoch 20/100\n",
            "100/100 [==============================] - 4s 35ms/step - loss: 0.7725 - masked_acc: 0.8037 - masked_loss: 0.7725 - val_loss: 2.1339 - val_masked_acc: 0.6209 - val_masked_loss: 2.1339\n",
            "Epoch 21/100\n",
            "100/100 [==============================] - 4s 44ms/step - loss: 0.8314 - masked_acc: 0.7867 - masked_loss: 0.8314 - val_loss: 2.1461 - val_masked_acc: 0.6157 - val_masked_loss: 2.1461\n",
            "Epoch 22/100\n",
            "100/100 [==============================] - 5s 49ms/step - loss: 0.8847 - masked_acc: 0.7741 - masked_loss: 0.8847 - val_loss: 2.1287 - val_masked_acc: 0.6192 - val_masked_loss: 2.1287\n",
            "Epoch 23/100\n",
            "100/100 [==============================] - 4s 37ms/step - loss: 0.6797 - masked_acc: 0.8229 - masked_loss: 0.6811 - val_loss: 2.1562 - val_masked_acc: 0.6332 - val_masked_loss: 2.1562\n",
            "Epoch 24/100\n",
            "100/100 [==============================] - 4s 35ms/step - loss: 0.6328 - masked_acc: 0.8335 - masked_loss: 0.6328 - val_loss: 2.2379 - val_masked_acc: 0.6160 - val_masked_loss: 2.2379\n"
          ]
        }
      ],
      "source": [
        "history = model.fit(\n",
        "    train_ds.repeat(),\n",
        "    epochs=100,\n",
        "    steps_per_epoch = 100,\n",
        "    validation_data=val_ds,\n",
        "    validation_steps = 20,\n",
        "    # callbacks=[tf.keras.callbacks.EarlyStopping(patience=3)])\n",
        "    callbacks=[tf.keras.callbacks.EarlyStopping(patience=5)])"
      ]
    },
    {
      "cell_type": "code",
      "execution_count": null,
      "metadata": {
        "colab": {
          "base_uri": "https://localhost:8080/",
          "height": 466
        },
        "id": "nJX5B3pXT_fn",
        "outputId": "1a799c74-3f42-4296-d14a-1c917068d5f3"
      },
      "outputs": [
        {
          "data": {
            "text/plain": [
              "<matplotlib.legend.Legend at 0x7ef4ec793d30>"
            ]
          },
          "execution_count": 134,
          "metadata": {},
          "output_type": "execute_result"
        },
        {
          "data": {
            "image/png": "[encoded data removed]",
            "text/plain": [
              "<Figure size 640x480 with 1 Axes>"
            ]
          },
          "metadata": {},
          "output_type": "display_data"
        }
      ],
      "source": [
        "plt.plot(history.history['loss'], label='loss')\n",
        "plt.plot(history.history['val_loss'], label='val_loss')\n",
        "plt.ylim([0, max(plt.ylim())])\n",
        "plt.xlabel('Epoch #')\n",
        "plt.ylabel('CE/token')\n",
        "plt.legend()"
      ]
    },
    {
      "cell_type": "code",
      "execution_count": null,
      "metadata": {
        "colab": {
          "base_uri": "https://localhost:8080/",
          "height": 466
        },
        "id": "jLHBF97dXWVR",
        "outputId": "58beb7f9-8ca6-479d-d895-506fd194a702"
      },
      "outputs": [
        {
          "data": {
            "text/plain": [
              "<matplotlib.legend.Legend at 0x7ef521018a30>"
            ]
          },
          "execution_count": 135,
          "metadata": {},
          "output_type": "execute_result"
        },
        {
          "data": {
            "image/png": "[encoded data removed]",
            "text/plain": [
              "<Figure size 640x480 with 1 Axes>"
            ]
          },
          "metadata": {},
          "output_type": "display_data"
        }
      ],
      "source": [
        "plt.plot(history.history['masked_acc'], label='accuracy')\n",
        "plt.plot(history.history['val_masked_acc'], label='val_accuracy')\n",
        "plt.ylim([0, max(plt.ylim())])\n",
        "plt.xlabel('Epoch #')\n",
        "plt.ylabel('CE/token')\n",
        "plt.legend()"
      ]
    },
    {
      "cell_type": "markdown",
      "metadata": {
        "id": "zPVNQSSrXd0S"
      },
      "source": [
        "## Translate"
      ]
    },
    {
      "cell_type": "code",
      "execution_count": null,
      "metadata": {
        "id": "QgIywbsNakum"
      },
      "outputs": [],
      "source": [
        "@Translator.add_method\n",
        "def translate(self,texts, *,max_length=50,temperature=0.0):\n",
        "  texts = [segmentation(texts)]\n",
        "  # Process the input texts\n",
        "  context = self.encoder.convert_input(texts)\n",
        "  batch_size = tf.shape(texts)[0]\n",
        "\n",
        "  # Setup the loop inputs\n",
        "  tokens = []\n",
        "  attention_weights = []\n",
        "  next_token, done, state = self.decoder.get_initial_state(context)\n",
        "\n",
        "  for _ in range(max_length):\n",
        "    # Generate the next token\n",
        "    next_token, done, state = self.decoder.get_next_token(\n",
        "        context, next_token, done,  state, temperature)\n",
        "\n",
        "    # Collect the generated tokens\n",
        "    tokens.append(next_token)\n",
        "    attention_weights.append(self.decoder.last_attention_weights)\n",
        "\n",
        "    if tf.executing_eagerly() and tf.reduce_all(done):\n",
        "      break\n",
        "\n",
        "  # Stack the lists of tokens and attention weights.\n",
        "  tokens = tf.concat(tokens, axis=-1)   # t*[(batch 1)] -> (batch, t)\n",
        "  self.last_attention_weights = tf.concat(attention_weights, axis=1)  # t*[(batch 1 s)] -> (batch, t s)\n",
        "\n",
        "  result = self.decoder.tokens_to_text(tokens)\n",
        "  return result"
      ]
    },
    {
      "cell_type": "code",
      "execution_count": null,
      "metadata": {
        "id": "MTlIKWg0XWKw"
      },
      "outputs": [],
      "source": [
        "inputs = ['我喜欢你','快!','你确定？','等我一下','请完成数学练习。','明天要不要吃早餐?','如果明天天气很好，要不要出去玩?']"
      ]
    },
    {
      "cell_type": "code",
      "execution_count": null,
      "metadata": {
        "colab": {
          "base_uri": "https://localhost:8080/"
        },
        "id": "3SqPs8OgXWIZ",
        "outputId": "ae30be30-2646-4e73-e2e7-c43bc0acc812"
      },
      "outputs": [
        {
          "name": "stdout",
          "output_type": "stream",
          "text": [
            "i like you . \n",
            "step on ! \n",
            "are you sure about this ? \n",
            "i wait for a minute . \n",
            "please get out math . \n",
            "what will you have to have breakfast tomorrow ? \n",
            "if it rains tomorrow , wont you go ? \n",
            "\n",
            "CPU times: user 1.74 s, sys: 35.3 ms, total: 1.77 s\n",
            "Wall time: 1.8 s\n"
          ]
        }
      ],
      "source": [
        "%%time\n",
        "for t in inputs:\n",
        "  print(model.translate(t)[0].numpy().decode())\n",
        "\n",
        "print()"
      ]
    },
    {
      "cell_type": "markdown",
      "metadata": {
        "id": "BVdQI92N5QG5"
      },
      "source": [
        "## Discussion & Conclusion\n",
        "若以原本範本的模型設定，model accuarcy 大約為77%，基本上輸入中文單字與簡短的句子皆可以正確翻譯，但隨著句子的字數增加，準確度逐漸降低。我嘗試用以下方式挑整超參數來提高準確度，我首先改變EarlyStopping的Step，從3調整成5，模型的準確度來到了82%，此時正確翻譯的最大長度有效增加。接著我將units從256調整至512，模型準確度持續提升，但在我輸入的5句話中，就有3個是錯的，推估是有overfitting發生所導致。我觀察到的是，比起西班牙文翻譯，中文翻譯難度高很多，第一: 歐洲的語言與美國的整體架構相近、第二: 中文句子中單字與單字間沒有空格、第三: 兩個字拆開與合併意思相差甚遠，例如: 「明天」與 「明 天」，因此我認為針對此模型，資料數增加會是最直接提升準確的辦法。\n",
        "\n",
        "\n"
      ]
    }
  ],
  "metadata": {
    "accelerator": "GPU",
    "colab": {
      "gpuType": "T4",
      "provenance": []
    },
    "kernelspec": {
      "display_name": "Python 3",
      "name": "python3"
    },
    "language_info": {
      "name": "python"
    }
  },
  "nbformat": 4,
  "nbformat_minor": 0
}
